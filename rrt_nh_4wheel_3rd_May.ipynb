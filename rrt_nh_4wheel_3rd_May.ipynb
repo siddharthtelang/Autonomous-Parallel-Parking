{
 "metadata": {
  "language_info": {
   "codemirror_mode": {
    "name": "ipython",
    "version": 3
   },
   "file_extension": ".py",
   "mimetype": "text/x-python",
   "name": "python",
   "nbconvert_exporter": "python",
   "pygments_lexer": "ipython3",
   "version": "3.6.9"
  },
  "orig_nbformat": 2,
  "kernelspec": {
   "name": "python369jvsc74a57bd031f2aee4e71d21fbe5cf8b01ff0e069b9275f58929596ceb00d14d90e3e16cd6",
   "display_name": "Python 3.6.9 64-bit"
  },
  "metadata": {
   "interpreter": {
    "hash": "31f2aee4e71d21fbe5cf8b01ff0e069b9275f58929596ceb00d14d90e3e16cd6"
   }
  }
 },
 "nbformat": 4,
 "nbformat_minor": 2,
 "cells": [
  {
   "cell_type": "code",
   "execution_count": 1,
   "metadata": {},
   "outputs": [],
   "source": [
    "from Obstacle import *\n",
    "from Visualization import *\n",
    "import numpy as np\n",
    "import cv2\n",
    "import matplotlib.pyplot as plt\n",
    "import matplotlib.patches as patches\n",
    "from Utils.Node import *\n",
    "import math\n",
    "import queue\n",
    "import random\n",
    "import copy\n",
    "\n",
    "wheel_radius = 0.038\n",
    "wheel_distance = 0.354"
   ]
  },
  {
   "cell_type": "code",
   "execution_count": 2,
   "metadata": {},
   "outputs": [],
   "source": [
    "def halfRound(n):\n",
    "    return round(2*n)/2\n",
    "def toRadian(angle):\n",
    "    return np.pi * angle / 180\n",
    "def toDegree(angle):\n",
    "    return 180 * angle / np.pi"
   ]
  },
  {
   "cell_type": "code",
   "execution_count": 29,
   "metadata": {},
   "outputs": [],
   "source": [
    "def visualize(viz, traversed_nodes, destination, goal_node, obs, show_pass):\n",
    "    fig, ax = plt.subplots(figsize = (10, 10))\n",
    "    ax.set(xlim=(0, 10), ylim = (0,10))\n",
    "    ax = viz.addObstacles2Map(ax)\n",
    "    ax.set_aspect(\"equal\")\n",
    "    c = 0\n",
    "    print(len(traversed_nodes))\n",
    "    if show_pass:\n",
    "        for node in traversed_nodes:\n",
    "            start_node  = node.getParent()\n",
    "            if start_node is not None:\n",
    "                xi, yi, _, _ = start_node.getState()\n",
    "                points = node.getPathArray()\n",
    "                if points is not None:\n",
    "                    for point in points:\n",
    "                        xn, yn = point\n",
    "                        ax.plot([xi, xn], [yi, yn], color=\"blue\", linewidth = 0.3)\n",
    "                        xi, yi = xn, yn\n",
    "\n",
    "    # i = 0\n",
    "    # y = goal_node.getState()[1]\n",
    "    # y_ = goal_node.getState()[1]\n",
    "    # ax.scatter(goal_node.getState()[0], y)\n",
    "    # theta = toRadian(goal_node.getState()[2])\n",
    "    # while(i<10):\n",
    "    #     if goal_node.getState()[2] % 90 == 0:\n",
    "    #         x = goal_node.getState()[0]\n",
    "    #     else:\n",
    "    #         x = y/math.tan(theta)\n",
    "    #     i+=1\n",
    "    #     y+=0.1\n",
    "    #     y_-=0.1\n",
    "    #     ax.scatter(x,y)\n",
    "    #     ax.scatter(x,y_)\n",
    "\n",
    "    x, y = goal_node.getState()[:2]\n",
    "    x_, y_ = goal_node.getState()[:2]\n",
    "    theta = toRadian(goal_node.getState()[2])\n",
    "    ax.scatter(x,y)\n",
    "    d = 1\n",
    "    x = x + d*math.cos(theta)\n",
    "    y = y + d*math.sin(theta)\n",
    "    #x_ = x_ - d*math.cos(theta)\n",
    "    #y_ = y_ - d*math.sin(theta)\n",
    "    ax.plot([x, x_], [y, y_], color=\"red\", linewidth = 5)\n",
    "\n",
    "\n",
    "    current_node = copy.copy(destination)\n",
    "    nodes = []\n",
    "    while(current_node.getParent() is not None):\n",
    "        nodes.append(current_node)\n",
    "        current_node = current_node.getParent()\n",
    "    nodes.append(current_node)\n",
    "    nodes.reverse()\n",
    "\n",
    "    for node in nodes:\n",
    "        start_node  = node.getParent()\n",
    "        \n",
    "        if start_node is not None:\n",
    "            xi, yi, _, _ = start_node.getState()\n",
    "            points = node.getPathArray()\n",
    "            if points is not None:\n",
    "                for point in points:\n",
    "                    xn, yn = point[:2]                  \n",
    "                    ax.plot([xi, xn], [yi, yn], color=\"green\", linewidth = 2)\n",
    "                    xi, yi = xn, yn\n",
    "    a = str(int(random.uniform(1,1000)))\n",
    "    plt.savefig(a + '.png')\n",
    "    return nodes\n"
   ]
  },
  {
   "cell_type": "code",
   "execution_count": 4,
   "metadata": {},
   "outputs": [],
   "source": [
    "def getBranches(node, T, u_linear, u_steer1, u_steer2, obs):\n",
    "    actions=[[u_linear, 0], [u_linear, u_steer1], [u_linear, -u_steer1], [u_linear, u_steer2], [u_linear, -u_steer2],[-u_linear, 0], [-u_linear, u_steer1], [-u_linear, -u_steer1], [-u_linear, u_steer2], [-u_linear, -u_steer2]]\n",
    "    state = node.getState()\n",
    "    branches = []\n",
    "\n",
    "    for action in actions:\n",
    "        new_state, path_array, cost = move(state, action, T, obs)\n",
    "        if new_state is not None:\n",
    "            branch_node = Node(new_state, node, action, node.getCost() + cost, path_array)\n",
    "            branches.append(branch_node)\n",
    "              \n",
    "    return branches"
   ]
  },
  {
   "cell_type": "code",
   "execution_count": 5,
   "metadata": {},
   "outputs": [],
   "source": [
    "def isOnSpot(current, final):\n",
    "    x_current, y_current, theta_current = current.getState()[:3]\n",
    "    x_goal, y_goal, theta_goal = final.getState()[:3]\n",
    "\n",
    "    theta_goal = toRadian(theta_goal)\n",
    "    theta_current = toRadian(theta_current)\n",
    "    \n",
    "    m  = math.tan(theta_goal)\n",
    "    if abs(theta_goal) == 90 or abs(theta_goal) == 270:\n",
    "        c = 0\n",
    "    else:\n",
    "        c = y_goal - x_goal*m\n",
    "    \n",
    "    # print(abs(theta_goal), ((abs(theta_goal) > 265 and abs(theta_goal) < 275) or (abs(theta_goal) > 85 and abs(theta_goal) < 95)))\n",
    "\n",
    "    if ((abs(theta_goal) > toRadian(265) and abs(theta_goal) < toRadian(275)) or (abs(theta_goal) > toRadian(85) and abs(theta_goal) < toRadian(95))):\n",
    "    # if abs(theta_goal) > 265 or abs(theta_goal) < 275 or abs(theta_goal) > 85 or abs(theta_goal) < 95:\n",
    "        error = x_current - x_goal\n",
    "    else:\n",
    "        error = y_current - x_current*math.tan(theta_goal) - c\n",
    "    d, _ = calculate_d_and_theta(current.getState(), final.getState())\n",
    "    # print(d)\n",
    "    # print(error)\n",
    "    # print(_)\n",
    "    return (abs(error) < 0.5 and d < 0.5)"
   ]
  },
  {
   "cell_type": "code",
   "execution_count": 6,
   "metadata": {},
   "outputs": [],
   "source": [
    "def move(state, action, T, obs):\n",
    "    t = 0\n",
    "    dt = 0.1\n",
    "    \n",
    "    Xi, Yi, thetai, steeri = state\n",
    "    thetai = toRadian(thetai)\n",
    "    steeri = toRadian(steeri)\n",
    "\n",
    "    u_linear, u_steer = action \n",
    "\n",
    "    Xn = Xi\n",
    "    Yn = Yi\n",
    "    thetan = thetai\n",
    "    steern = steeri\n",
    "\n",
    "    path_array = []\n",
    "    cost = 0.0\n",
    "    path_array.append([Xn, Yn])\n",
    "    a = 1\n",
    "    while t<T:\n",
    "        t = t + dt\n",
    "        steern += dt * u_steer\n",
    "        if steern > np.pi / 4:\n",
    "            steern = np.pi / 4\n",
    "        if steern < -np.pi / 4:\n",
    "            steern = -np.pi / 4\n",
    "\n",
    "        thetan += (np.tan(steern) / a ) * u_linear * dt\n",
    "        dx = u_linear * math.cos(thetan) * dt\n",
    "        dy = u_linear * math.sin(thetan) * dt\n",
    "\n",
    "        Xn += dx\n",
    "        Yn += dy\n",
    "\n",
    "        cost += math.sqrt(math.pow(dx,2) + math.pow(dy,2))\n",
    "        path_array.append([Xn, Yn])\n",
    "\n",
    "        if obs.isInObstacleSpace(Xn, Yn):\n",
    "            return None, None, None\n",
    "        \n",
    "    thetan = int(toDegree(thetan))\n",
    "    steern = int(toDegree(steern))\n",
    "    return [Xn, Yn, thetan, steern] , path_array, cost"
   ]
  },
  {
   "cell_type": "code",
   "execution_count": 7,
   "metadata": {},
   "outputs": [],
   "source": [
    "def getRandomNode():\n",
    "    a = random.uniform(-np.pi, np.pi)\n",
    "    # print(a)\n",
    "    state = [random.uniform(0, 9), random.uniform(0,9), random.uniform(0, 360), 0]\n",
    "    return Node(state, None, None, None, None)\n",
    "\n",
    "def getNearestNodeIndex(node_list, random_point):\n",
    "    distance = []\n",
    "    # print(random_point)\n",
    "    for node in node_list:\n",
    "        node_pts = node.getState()\n",
    "        alpha = 0.2\n",
    "        d = (((node_pts[0] - random_point[0])**2 + (node_pts[1] - random_point[1])**2) + alpha *(np.abs(node_pts[2] - random_point[2]))) ** 0.5\n",
    "        distance.append(d)\n",
    "    min_idx = distance.index(min(distance))\n",
    "\n",
    "    return min_idx\n",
    "\n",
    "def calculate_d_and_theta(start, end):\n",
    "    dx = end[0] - start[0]\n",
    "    dy = end[1] - start[1]\n",
    "    d = math.hypot(dx, dy)\n",
    "    theta = math.atan2(dy, dx)\n",
    "    return d, theta\n",
    "\n",
    "def getNewNode(nearest_node, random_point, obs):\n",
    "    T = 1\n",
    "    u_linear = 1\n",
    "    u_steer1 = 0.2\n",
    "    u_steer2 = 0.5\n",
    "    sample_distance = 0.25\n",
    "\n",
    "    nearest_point = nearest_node.getState()\n",
    "\n",
    "    if obs.isInObstacleSpace(nearest_point[0], nearest_point[1]):\n",
    "        print('Nearest point in OBSTACLE SPACE')\n",
    "    \n",
    "    _, theta = calculate_d_and_theta(nearest_point, random_point)\n",
    "    ref_state = [sample_distance*math.cos(theta), sample_distance*math.sin(theta), random_point[2], 0]\n",
    "\n",
    "    branches = getBranches(nearest_node, T, u_linear, u_steer1, u_steer2, obs)\n",
    "    if (len(branches) > 0):\n",
    "        branch_idx = getNearestNodeIndex(branches, ref_state)\n",
    "        new_node = branches[branch_idx]\n",
    "    else:\n",
    "        new_node = None\n",
    "\n",
    "    return new_node\n"
   ]
  },
  {
   "cell_type": "code",
   "execution_count": null,
   "metadata": {},
   "outputs": [],
   "source": []
  },
  {
   "cell_type": "code",
   "execution_count": 27,
   "metadata": {
    "tags": []
   },
   "outputs": [
    {
     "output_type": "stream",
     "name": "stdout",
     "text": [
      "Final node get state =  [1.7463190372053727, 4.043166299329872, 85, 0]\nGoal Reached, cost =  11.0\ninf\nUpdate final node cost, state =  3 ,  8\nfrom:  inf  to : 11.0\n------------------------\n"
     ]
    }
   ],
   "source": [
    "height, width = 10, 10\n",
    "T = 1\n",
    "dt = 0.1\n",
    "threshold = 0.5\n",
    "rand_map = [width-1, height-1]\n",
    "# start_point = [9,9,180,0]\n",
    "#start_point = [8,6,180,0]\n",
    "start_point = [8,2,90,0]\n",
    "#start_point = [2,1,90,0]\n",
    "#start_point = [8,6,0,0]\n",
    "#start_point = [8,2,90,0]\n",
    "#start_point = [9,7,90,0]\n",
    "#start_point = [1,5,180,0]\n",
    "#goal_state = [4.5,2,90,0]\n",
    "#goal_state = [4.5,2,270,0]\n",
    "#goal_state = [8,2,90,0]\n",
    "#goal_state = [2,4.5,0,0]\n",
    "goal_state = [1.5,4,90,0]\n",
    "obs = Obstacle(0.0)\n",
    "obs.addNewObstacle(4, 4, 0.5, 0.5)\n",
    "viz = Visualization(obs)\n",
    "\n",
    "node_array = np.array([[[math.inf for k in range(360)] for j in range(int(height/threshold))] for i in range(int(width/threshold))])\n",
    "\n",
    "goal_reached = False\n",
    "start_node = Node(start_point, None, None, 0, [])\n",
    "goal_node = Node(goal_state, None, None, math.inf, [])\n",
    "final_node = None\n",
    "node_list = [start_node]\n",
    "goal_node_final = None\n",
    "destination = None\n",
    "\n",
    "for i in range(3000):\n",
    "    random_node = getRandomNode()\n",
    "    if (random_node == None):\n",
    "        continue\n",
    "    # ax.scatter(random_node.getState()[0], random_node.getState()[1])\n",
    "    nearest_idx = getNearestNodeIndex(node_list, random_node.getState())\n",
    "    nearest_node = node_list[nearest_idx]\n",
    "    new_node = None\n",
    "    new_node = getNewNode(nearest_node, random_node.getState(), obs)\n",
    "    if (new_node == None):\n",
    "        continue\n",
    "\n",
    "    node_list.append(new_node)\n",
    "    x_new = int(halfRound(new_node.getState()[0])/threshold)\n",
    "    y_new = int(halfRound(new_node.getState()[1])/threshold)\n",
    "    d_goal = ((node_list[-1].getState()[0]- goal_state[0])**2 + (node_list[-1].getState()[1]- goal_state[1])**2)**0.5 \n",
    "    d_angle = np.abs((node_list[-1].getState()[2]- goal_state[2]))\n",
    "\n",
    "    is_on_spot = isOnSpot(node_list[-1], goal_node) \n",
    "    if (is_on_spot and d_angle <= 5):\n",
    "        print('Final node get state = ',new_node.getState())\n",
    "        if not obs.isInObstacleSpace(new_node.getState()[0], new_node.getState()[1]):\n",
    "            print('Goal Reached, cost = ', new_node.getCost())\n",
    "            x_goal = int(halfRound(goal_node.getState()[0])/threshold)\n",
    "            y_goal = int(halfRound(goal_node.getState()[1])/threshold)\n",
    "            print(node_array[x_goal, y_goal, 0])\n",
    "\n",
    "            dist, angle = calculate_d_and_theta(node_list[-1].getState()[:2], goal_node.getState()[:2])\n",
    "            delta_angle = abs(angle-goal_node.getState()[2])\n",
    "            new_cost = dist + 0.1*delta_angle\n",
    "            # new_node.cost += new_cost\n",
    "            # print('New cost = ', new_node.getCost())\n",
    "\n",
    "            if (new_node.getCost() <  node_array[x_goal, y_goal, 0]):\n",
    "                print('Update final node cost, state = ', x_goal, ', ',y_goal)\n",
    "                print('from: ', node_array[x_goal, y_goal, 0], ' to :', new_node.getCost())\n",
    "                node_array[x_goal,y_goal,0] = new_node.getCost() \n",
    "                goal_node_final = new_node\n",
    "            print('------------------------')\n",
    "\n",
    "# steer to goal\n",
    "if goal_node_final is not None:\n",
    "    node_list.append(goal_node_final)\n",
    "    destination = getNewNode(goal_node_final, goal_node.getState(), obs)\n",
    "    node_list.append(destination)"
   ]
  },
  {
   "cell_type": "code",
   "execution_count": 31,
   "metadata": {},
   "outputs": [
    {
     "output_type": "stream",
     "name": "stdout",
     "text": [
      "3003\n"
     ]
    },
    {
     "output_type": "display_data",
     "data": {
      "text/plain": "<Figure size 720x720 with 1 Axes>",
      "image/svg+xml": "<?xml version=\"1.0\" encoding=\"utf-8\" standalone=\"no\"?>\n<!DOCTYPE svg PUBLIC \"-//W3C//DTD SVG 1.1//EN\"\n  \"http://www.w3.org/Graphics/SVG/1.1/DTD/svg11.dtd\">\n<!-- Created with matplotlib (https://matplotlib.org/) -->\n<svg height=\"578.477344pt\" version=\"1.1\" viewBox=\"0 0 584.0875 578.477344\" width=\"584.0875pt\" xmlns=\"http://www.w3.org/2000/svg\" xmlns:xlink=\"http://www.w3.org/1999/xlink\">\n <metadata>\n  <rdf:RDF xmlns:cc=\"http://creativecommons.org/ns#\" xmlns:dc=\"http://purl.org/dc/elements/1.1/\" xmlns:rdf=\"http://www.w3.org/1999/02/22-rdf-syntax-ns#\">\n   <cc:Work>\n    <dc:type rdf:resource=\"http://purl.org/dc/dcmitype/StillImage\"/>\n    <dc:date>2021-05-04T23:37:08.380531</dc:date>\n    <dc:format>image/svg+xml</dc:format>\n    <dc:creator>\n     <cc:Agent>\n      <dc:title>Matplotlib v3.3.3, https://matplotlib.org/</dc:title>\n     </cc:Agent>\n    </dc:creator>\n   </cc:Work>\n  </rdf:RDF>\n </metadata>\n <defs>\n  <style type=\"text/css\">*{stroke-linecap:butt;stroke-linejoin:round;}</style>\n </defs>\n <g id=\"figure_1\">\n  <g id=\"patch_1\">\n   <path d=\"M 0 578.477344 \nL 584.0875 578.477344 \nL 584.0875 0 \nL 0 0 \nz\n\" style=\"fill:none;\"/>\n  </g>\n  <g id=\"axes_1\">\n   <g id=\"patch_2\">\n    <path d=\"M 26.925 554.599219 \nL 570.525 554.599219 \nL 570.525 10.999219 \nL 26.925 10.999219 \nz\n\" style=\"fill:#ffffff;\"/>\n   </g>\n   <g id=\"PathCollection_1\">\n    <defs>\n     <path d=\"M 0 3 \nC 0.795609 3 1.55874 2.683901 2.12132 2.12132 \nC 2.683901 1.55874 3 0.795609 3 0 \nC 3 -0.795609 2.683901 -1.55874 2.12132 -2.12132 \nC 1.55874 -2.683901 0.795609 -3 0 -3 \nC -0.795609 -3 -1.55874 -2.683901 -2.12132 -2.12132 \nC -2.683901 -1.55874 -3 -0.795609 -3 0 \nC -3 0.795609 -2.683901 1.55874 -2.12132 2.12132 \nC -1.55874 2.683901 -0.795609 3 0 3 \nz\n\" id=\"m6b182ed237\" style=\"stroke:#1f77b4;\"/>\n    </defs>\n    <g clip-path=\"url(#p6e41c04b38)\">\n     <use style=\"fill:#1f77b4;stroke:#1f77b4;\" x=\"108.465\" xlink:href=\"#m6b182ed237\" y=\"337.159219\"/>\n    </g>\n   </g>\n   <g id=\"patch_3\">\n    <path clip-path=\"url(#p6e41c04b38)\" d=\"M 17.30328 414.730939 \nL 199.62672 414.730939 \nL 199.62672 394.943899 \nL 17.30328 394.943899 \nz\n\" style=\"fill:none;stroke:#ff0000;stroke-linejoin:miter;\"/>\n   </g>\n   <g id=\"patch_4\">\n    <path clip-path=\"url(#p6e41c04b38)\" d=\"M 17.30328 224.470939 \nL 199.62672 224.470939 \nL 199.62672 204.683899 \nL 17.30328 204.683899 \nz\n\" style=\"fill:none;stroke:#ff0000;stroke-linejoin:miter;\"/>\n   </g>\n   <g id=\"patch_5\">\n    <path clip-path=\"url(#p6e41c04b38)\" d=\"M 234.74328 346.780939 \nL 281.16672 346.780939 \nL 281.16672 300.357499 \nL 234.74328 300.357499 \nz\n\" style=\"fill:none;stroke:#0000ff;stroke-linejoin:miter;\"/>\n   </g>\n   <g id=\"matplotlib.axis_1\">\n    <g id=\"xtick_1\">\n     <g id=\"line2d_1\">\n      <defs>\n       <path d=\"M 0 0 \nL 0 3.5 \n\" id=\"m6cb52e781e\" style=\"stroke:#000000;stroke-width:0.8;\"/>\n      </defs>\n      <g>\n       <use style=\"stroke:#000000;stroke-width:0.8;\" x=\"26.925\" xlink:href=\"#m6cb52e781e\" y=\"554.599219\"/>\n      </g>\n     </g>\n     <g id=\"text_1\">\n      <!-- 0 -->\n      <g transform=\"translate(23.74375 569.197656)scale(0.1 -0.1)\">\n       <defs>\n        <path d=\"M 31.78125 66.40625 \nQ 24.171875 66.40625 20.328125 58.90625 \nQ 16.5 51.421875 16.5 36.375 \nQ 16.5 21.390625 20.328125 13.890625 \nQ 24.171875 6.390625 31.78125 6.390625 \nQ 39.453125 6.390625 43.28125 13.890625 \nQ 47.125 21.390625 47.125 36.375 \nQ 47.125 51.421875 43.28125 58.90625 \nQ 39.453125 66.40625 31.78125 66.40625 \nz\nM 31.78125 74.21875 \nQ 44.046875 74.21875 50.515625 64.515625 \nQ 56.984375 54.828125 56.984375 36.375 \nQ 56.984375 17.96875 50.515625 8.265625 \nQ 44.046875 -1.421875 31.78125 -1.421875 \nQ 19.53125 -1.421875 13.0625 8.265625 \nQ 6.59375 17.96875 6.59375 36.375 \nQ 6.59375 54.828125 13.0625 64.515625 \nQ 19.53125 74.21875 31.78125 74.21875 \nz\n\" id=\"DejaVuSans-48\"/>\n       </defs>\n       <use xlink:href=\"#DejaVuSans-48\"/>\n      </g>\n     </g>\n    </g>\n    <g id=\"xtick_2\">\n     <g id=\"line2d_2\">\n      <g>\n       <use style=\"stroke:#000000;stroke-width:0.8;\" x=\"135.645\" xlink:href=\"#m6cb52e781e\" y=\"554.599219\"/>\n      </g>\n     </g>\n     <g id=\"text_2\">\n      <!-- 2 -->\n      <g transform=\"translate(132.46375 569.197656)scale(0.1 -0.1)\">\n       <defs>\n        <path d=\"M 19.1875 8.296875 \nL 53.609375 8.296875 \nL 53.609375 0 \nL 7.328125 0 \nL 7.328125 8.296875 \nQ 12.9375 14.109375 22.625 23.890625 \nQ 32.328125 33.6875 34.8125 36.53125 \nQ 39.546875 41.84375 41.421875 45.53125 \nQ 43.3125 49.21875 43.3125 52.78125 \nQ 43.3125 58.59375 39.234375 62.25 \nQ 35.15625 65.921875 28.609375 65.921875 \nQ 23.96875 65.921875 18.8125 64.3125 \nQ 13.671875 62.703125 7.8125 59.421875 \nL 7.8125 69.390625 \nQ 13.765625 71.78125 18.9375 73 \nQ 24.125 74.21875 28.421875 74.21875 \nQ 39.75 74.21875 46.484375 68.546875 \nQ 53.21875 62.890625 53.21875 53.421875 \nQ 53.21875 48.921875 51.53125 44.890625 \nQ 49.859375 40.875 45.40625 35.40625 \nQ 44.1875 33.984375 37.640625 27.21875 \nQ 31.109375 20.453125 19.1875 8.296875 \nz\n\" id=\"DejaVuSans-50\"/>\n       </defs>\n       <use xlink:href=\"#DejaVuSans-50\"/>\n      </g>\n     </g>\n    </g>\n    <g id=\"xtick_3\">\n     <g id=\"line2d_3\">\n      <g>\n       <use style=\"stroke:#000000;stroke-width:0.8;\" x=\"244.365\" xlink:href=\"#m6cb52e781e\" y=\"554.599219\"/>\n      </g>\n     </g>\n     <g id=\"text_3\">\n      <!-- 4 -->\n      <g transform=\"translate(241.18375 569.197656)scale(0.1 -0.1)\">\n       <defs>\n        <path d=\"M 37.796875 64.3125 \nL 12.890625 25.390625 \nL 37.796875 25.390625 \nz\nM 35.203125 72.90625 \nL 47.609375 72.90625 \nL 47.609375 25.390625 \nL 58.015625 25.390625 \nL 58.015625 17.1875 \nL 47.609375 17.1875 \nL 47.609375 0 \nL 37.796875 0 \nL 37.796875 17.1875 \nL 4.890625 17.1875 \nL 4.890625 26.703125 \nz\n\" id=\"DejaVuSans-52\"/>\n       </defs>\n       <use xlink:href=\"#DejaVuSans-52\"/>\n      </g>\n     </g>\n    </g>\n    <g id=\"xtick_4\">\n     <g id=\"line2d_4\">\n      <g>\n       <use style=\"stroke:#000000;stroke-width:0.8;\" x=\"353.085\" xlink:href=\"#m6cb52e781e\" y=\"554.599219\"/>\n      </g>\n     </g>\n     <g id=\"text_4\">\n      <!-- 6 -->\n      <g transform=\"translate(349.90375 569.197656)scale(0.1 -0.1)\">\n       <defs>\n        <path d=\"M 33.015625 40.375 \nQ 26.375 40.375 22.484375 35.828125 \nQ 18.609375 31.296875 18.609375 23.390625 \nQ 18.609375 15.53125 22.484375 10.953125 \nQ 26.375 6.390625 33.015625 6.390625 \nQ 39.65625 6.390625 43.53125 10.953125 \nQ 47.40625 15.53125 47.40625 23.390625 \nQ 47.40625 31.296875 43.53125 35.828125 \nQ 39.65625 40.375 33.015625 40.375 \nz\nM 52.59375 71.296875 \nL 52.59375 62.3125 \nQ 48.875 64.0625 45.09375 64.984375 \nQ 41.3125 65.921875 37.59375 65.921875 \nQ 27.828125 65.921875 22.671875 59.328125 \nQ 17.53125 52.734375 16.796875 39.40625 \nQ 19.671875 43.65625 24.015625 45.921875 \nQ 28.375 48.1875 33.59375 48.1875 \nQ 44.578125 48.1875 50.953125 41.515625 \nQ 57.328125 34.859375 57.328125 23.390625 \nQ 57.328125 12.15625 50.6875 5.359375 \nQ 44.046875 -1.421875 33.015625 -1.421875 \nQ 20.359375 -1.421875 13.671875 8.265625 \nQ 6.984375 17.96875 6.984375 36.375 \nQ 6.984375 53.65625 15.1875 63.9375 \nQ 23.390625 74.21875 37.203125 74.21875 \nQ 40.921875 74.21875 44.703125 73.484375 \nQ 48.484375 72.75 52.59375 71.296875 \nz\n\" id=\"DejaVuSans-54\"/>\n       </defs>\n       <use xlink:href=\"#DejaVuSans-54\"/>\n      </g>\n     </g>\n    </g>\n    <g id=\"xtick_5\">\n     <g id=\"line2d_5\">\n      <g>\n       <use style=\"stroke:#000000;stroke-width:0.8;\" x=\"461.805\" xlink:href=\"#m6cb52e781e\" y=\"554.599219\"/>\n      </g>\n     </g>\n     <g id=\"text_5\">\n      <!-- 8 -->\n      <g transform=\"translate(458.62375 569.197656)scale(0.1 -0.1)\">\n       <defs>\n        <path d=\"M 31.78125 34.625 \nQ 24.75 34.625 20.71875 30.859375 \nQ 16.703125 27.09375 16.703125 20.515625 \nQ 16.703125 13.921875 20.71875 10.15625 \nQ 24.75 6.390625 31.78125 6.390625 \nQ 38.8125 6.390625 42.859375 10.171875 \nQ 46.921875 13.96875 46.921875 20.515625 \nQ 46.921875 27.09375 42.890625 30.859375 \nQ 38.875 34.625 31.78125 34.625 \nz\nM 21.921875 38.8125 \nQ 15.578125 40.375 12.03125 44.71875 \nQ 8.5 49.078125 8.5 55.328125 \nQ 8.5 64.0625 14.71875 69.140625 \nQ 20.953125 74.21875 31.78125 74.21875 \nQ 42.671875 74.21875 48.875 69.140625 \nQ 55.078125 64.0625 55.078125 55.328125 \nQ 55.078125 49.078125 51.53125 44.71875 \nQ 48 40.375 41.703125 38.8125 \nQ 48.828125 37.15625 52.796875 32.3125 \nQ 56.78125 27.484375 56.78125 20.515625 \nQ 56.78125 9.90625 50.3125 4.234375 \nQ 43.84375 -1.421875 31.78125 -1.421875 \nQ 19.734375 -1.421875 13.25 4.234375 \nQ 6.78125 9.90625 6.78125 20.515625 \nQ 6.78125 27.484375 10.78125 32.3125 \nQ 14.796875 37.15625 21.921875 38.8125 \nz\nM 18.3125 54.390625 \nQ 18.3125 48.734375 21.84375 45.5625 \nQ 25.390625 42.390625 31.78125 42.390625 \nQ 38.140625 42.390625 41.71875 45.5625 \nQ 45.3125 48.734375 45.3125 54.390625 \nQ 45.3125 60.0625 41.71875 63.234375 \nQ 38.140625 66.40625 31.78125 66.40625 \nQ 25.390625 66.40625 21.84375 63.234375 \nQ 18.3125 60.0625 18.3125 54.390625 \nz\n\" id=\"DejaVuSans-56\"/>\n       </defs>\n       <use xlink:href=\"#DejaVuSans-56\"/>\n      </g>\n     </g>\n    </g>\n    <g id=\"xtick_6\">\n     <g id=\"line2d_6\">\n      <g>\n       <use style=\"stroke:#000000;stroke-width:0.8;\" x=\"570.525\" xlink:href=\"#m6cb52e781e\" y=\"554.599219\"/>\n      </g>\n     </g>\n     <g id=\"text_6\">\n      <!-- 10 -->\n      <g transform=\"translate(564.1625 569.197656)scale(0.1 -0.1)\">\n       <defs>\n        <path d=\"M 12.40625 8.296875 \nL 28.515625 8.296875 \nL 28.515625 63.921875 \nL 10.984375 60.40625 \nL 10.984375 69.390625 \nL 28.421875 72.90625 \nL 38.28125 72.90625 \nL 38.28125 8.296875 \nL 54.390625 8.296875 \nL 54.390625 0 \nL 12.40625 0 \nz\n\" id=\"DejaVuSans-49\"/>\n       </defs>\n       <use xlink:href=\"#DejaVuSans-49\"/>\n       <use x=\"63.623047\" xlink:href=\"#DejaVuSans-48\"/>\n      </g>\n     </g>\n    </g>\n   </g>\n   <g id=\"matplotlib.axis_2\">\n    <g id=\"ytick_1\">\n     <g id=\"line2d_7\">\n      <defs>\n       <path d=\"M 0 0 \nL -3.5 0 \n\" id=\"m2a821c87e9\" style=\"stroke:#000000;stroke-width:0.8;\"/>\n      </defs>\n      <g>\n       <use style=\"stroke:#000000;stroke-width:0.8;\" x=\"26.925\" xlink:href=\"#m2a821c87e9\" y=\"554.599219\"/>\n      </g>\n     </g>\n     <g id=\"text_7\">\n      <!-- 0 -->\n      <g transform=\"translate(13.5625 558.398438)scale(0.1 -0.1)\">\n       <use xlink:href=\"#DejaVuSans-48\"/>\n      </g>\n     </g>\n    </g>\n    <g id=\"ytick_2\">\n     <g id=\"line2d_8\">\n      <g>\n       <use style=\"stroke:#000000;stroke-width:0.8;\" x=\"26.925\" xlink:href=\"#m2a821c87e9\" y=\"445.879219\"/>\n      </g>\n     </g>\n     <g id=\"text_8\">\n      <!-- 2 -->\n      <g transform=\"translate(13.5625 449.678438)scale(0.1 -0.1)\">\n       <use xlink:href=\"#DejaVuSans-50\"/>\n      </g>\n     </g>\n    </g>\n    <g id=\"ytick_3\">\n     <g id=\"line2d_9\">\n      <g>\n       <use style=\"stroke:#000000;stroke-width:0.8;\" x=\"26.925\" xlink:href=\"#m2a821c87e9\" y=\"337.159219\"/>\n      </g>\n     </g>\n     <g id=\"text_9\">\n      <!-- 4 -->\n      <g transform=\"translate(13.5625 340.958438)scale(0.1 -0.1)\">\n       <use xlink:href=\"#DejaVuSans-52\"/>\n      </g>\n     </g>\n    </g>\n    <g id=\"ytick_4\">\n     <g id=\"line2d_10\">\n      <g>\n       <use style=\"stroke:#000000;stroke-width:0.8;\" x=\"26.925\" xlink:href=\"#m2a821c87e9\" y=\"228.439219\"/>\n      </g>\n     </g>\n     <g id=\"text_10\">\n      <!-- 6 -->\n      <g transform=\"translate(13.5625 232.238438)scale(0.1 -0.1)\">\n       <use xlink:href=\"#DejaVuSans-54\"/>\n      </g>\n     </g>\n    </g>\n    <g id=\"ytick_5\">\n     <g id=\"line2d_11\">\n      <g>\n       <use style=\"stroke:#000000;stroke-width:0.8;\" x=\"26.925\" xlink:href=\"#m2a821c87e9\" y=\"119.719219\"/>\n      </g>\n     </g>\n     <g id=\"text_11\">\n      <!-- 8 -->\n      <g transform=\"translate(13.5625 123.518438)scale(0.1 -0.1)\">\n       <use xlink:href=\"#DejaVuSans-56\"/>\n      </g>\n     </g>\n    </g>\n    <g id=\"ytick_6\">\n     <g id=\"line2d_12\">\n      <g>\n       <use style=\"stroke:#000000;stroke-width:0.8;\" x=\"26.925\" xlink:href=\"#m2a821c87e9\" y=\"10.999219\"/>\n      </g>\n     </g>\n     <g id=\"text_12\">\n      <!-- 10 -->\n      <g transform=\"translate(7.2 14.798438)scale(0.1 -0.1)\">\n       <use xlink:href=\"#DejaVuSans-49\"/>\n       <use x=\"63.623047\" xlink:href=\"#DejaVuSans-48\"/>\n      </g>\n     </g>\n    </g>\n   </g>\n   <g id=\"line2d_13\">\n    <path clip-path=\"url(#p6e41c04b38)\" d=\"M 108.465 282.799219 \nL 108.465 337.159219 \n\" style=\"fill:none;stroke:#ff0000;stroke-linecap:square;stroke-width:5;\"/>\n   </g>\n   <g id=\"line2d_14\">\n    <path clip-path=\"url(#p6e41c04b38)\" d=\"M 461.805 445.879219 \nL 461.805 445.879219 \n\" style=\"fill:none;stroke:#008000;stroke-linecap:square;stroke-width:2;\"/>\n   </g>\n   <g id=\"line2d_15\">\n    <path clip-path=\"url(#p6e41c04b38)\" d=\"M 461.805 445.879219 \nL 461.811801 448.59721 \n\" style=\"fill:none;stroke:#008000;stroke-linecap:square;stroke-width:2;\"/>\n   </g>\n   <g id=\"line2d_16\">\n    <path clip-path=\"url(#p6e41c04b38)\" d=\"M 461.811801 448.59721 \nL 461.832237 451.315133 \n\" style=\"fill:none;stroke:#008000;stroke-linecap:square;stroke-width:2;\"/>\n   </g>\n   <g id=\"line2d_17\">\n    <path clip-path=\"url(#p6e41c04b38)\" d=\"M 461.832237 451.315133 \nL 461.87321 454.032825 \n\" style=\"fill:none;stroke:#008000;stroke-linecap:square;stroke-width:2;\"/>\n   </g>\n   <g id=\"line2d_18\">\n    <path clip-path=\"url(#p6e41c04b38)\" d=\"M 461.87321 454.032825 \nL 461.941727 456.749961 \n\" style=\"fill:none;stroke:#008000;stroke-linecap:square;stroke-width:2;\"/>\n   </g>\n   <g id=\"line2d_19\">\n    <path clip-path=\"url(#p6e41c04b38)\" d=\"M 461.941727 456.749961 \nL 462.044927 459.466001 \n\" style=\"fill:none;stroke:#008000;stroke-linecap:square;stroke-width:2;\"/>\n   </g>\n   <g id=\"line2d_20\">\n    <path clip-path=\"url(#p6e41c04b38)\" d=\"M 462.044927 459.466001 \nL 462.044927 459.466001 \n\" style=\"fill:none;stroke:#008000;stroke-linecap:square;stroke-width:2;\"/>\n   </g>\n   <g id=\"line2d_21\">\n    <path clip-path=\"url(#p6e41c04b38)\" d=\"M 462.044927 459.466001 \nL 462.180944 462.180595 \n\" style=\"fill:none;stroke:#008000;stroke-linecap:square;stroke-width:2;\"/>\n   </g>\n   <g id=\"line2d_22\">\n    <path clip-path=\"url(#p6e41c04b38)\" d=\"M 462.180944 462.180595 \nL 462.365615 464.892315 \n\" style=\"fill:none;stroke:#008000;stroke-linecap:square;stroke-width:2;\"/>\n   </g>\n   <g id=\"line2d_23\">\n    <path clip-path=\"url(#p6e41c04b38)\" d=\"M 462.365615 464.892315 \nL 462.606665 467.599605 \n\" style=\"fill:none;stroke:#008000;stroke-linecap:square;stroke-width:2;\"/>\n   </g>\n   <g id=\"line2d_24\">\n    <path clip-path=\"url(#p6e41c04b38)\" d=\"M 462.606665 467.599605 \nL 462.912087 470.30039 \n\" style=\"fill:none;stroke:#008000;stroke-linecap:square;stroke-width:2;\"/>\n   </g>\n   <g id=\"line2d_25\">\n    <path clip-path=\"url(#p6e41c04b38)\" d=\"M 462.912087 470.30039 \nL 463.290174 472.991964 \n\" style=\"fill:none;stroke:#008000;stroke-linecap:square;stroke-width:2;\"/>\n   </g>\n   <g id=\"line2d_26\">\n    <path clip-path=\"url(#p6e41c04b38)\" d=\"M 463.290174 472.991964 \nL 463.290174 472.991964 \n\" style=\"fill:none;stroke:#008000;stroke-linecap:square;stroke-width:2;\"/>\n   </g>\n   <g id=\"line2d_27\">\n    <path clip-path=\"url(#p6e41c04b38)\" d=\"M 463.290174 472.991964 \nL 463.701871 475.678604 \n\" style=\"fill:none;stroke:#008000;stroke-linecap:square;stroke-width:2;\"/>\n   </g>\n   <g id=\"line2d_28\">\n    <path clip-path=\"url(#p6e41c04b38)\" d=\"M 463.701871 475.678604 \nL 464.20301 478.350005 \n\" style=\"fill:none;stroke:#008000;stroke-linecap:square;stroke-width:2;\"/>\n   </g>\n   <g id=\"line2d_29\">\n    <path clip-path=\"url(#p6e41c04b38)\" d=\"M 464.20301 478.350005 \nL 464.802958 481.000964 \n\" style=\"fill:none;stroke:#008000;stroke-linecap:square;stroke-width:2;\"/>\n   </g>\n   <g id=\"line2d_30\">\n    <path clip-path=\"url(#p6e41c04b38)\" d=\"M 464.802958 481.000964 \nL 465.511474 483.624993 \n\" style=\"fill:none;stroke:#008000;stroke-linecap:square;stroke-width:2;\"/>\n   </g>\n   <g id=\"line2d_31\">\n    <path clip-path=\"url(#p6e41c04b38)\" d=\"M 465.511474 483.624993 \nL 466.338698 486.214052 \n\" style=\"fill:none;stroke:#008000;stroke-linecap:square;stroke-width:2;\"/>\n   </g>\n   <g id=\"line2d_32\">\n    <path clip-path=\"url(#p6e41c04b38)\" d=\"M 466.338698 486.214052 \nL 466.338698 486.214052 \n\" style=\"fill:none;stroke:#008000;stroke-linecap:square;stroke-width:2;\"/>\n   </g>\n   <g id=\"line2d_33\">\n    <path clip-path=\"url(#p6e41c04b38)\" d=\"M 466.338698 486.214052 \nL 467.254258 488.773207 \n\" style=\"fill:none;stroke:#008000;stroke-linecap:square;stroke-width:2;\"/>\n   </g>\n   <g id=\"line2d_34\">\n    <path clip-path=\"url(#p6e41c04b38)\" d=\"M 467.254258 488.773207 \nL 468.293514 491.284675 \n\" style=\"fill:none;stroke:#008000;stroke-linecap:square;stroke-width:2;\"/>\n   </g>\n   <g id=\"line2d_35\">\n    <path clip-path=\"url(#p6e41c04b38)\" d=\"M 468.293514 491.284675 \nL 469.456992 493.741063 \n\" style=\"fill:none;stroke:#008000;stroke-linecap:square;stroke-width:2;\"/>\n   </g>\n   <g id=\"line2d_36\">\n    <path clip-path=\"url(#p6e41c04b38)\" d=\"M 469.456992 493.741063 \nL 470.741783 496.136232 \n\" style=\"fill:none;stroke:#008000;stroke-linecap:square;stroke-width:2;\"/>\n   </g>\n   <g id=\"line2d_37\">\n    <path clip-path=\"url(#p6e41c04b38)\" d=\"M 470.741783 496.136232 \nL 472.144678 498.464195 \n\" style=\"fill:none;stroke:#008000;stroke-linecap:square;stroke-width:2;\"/>\n   </g>\n   <g id=\"line2d_38\">\n    <path clip-path=\"url(#p6e41c04b38)\" d=\"M 472.144678 498.464195 \nL 472.144678 498.464195 \n\" style=\"fill:none;stroke:#008000;stroke-linecap:square;stroke-width:2;\"/>\n   </g>\n   <g id=\"line2d_39\">\n    <path clip-path=\"url(#p6e41c04b38)\" d=\"M 472.144678 498.464195 \nL 470.851587 496.073496 \n\" style=\"fill:none;stroke:#008000;stroke-linecap:square;stroke-width:2;\"/>\n   </g>\n   <g id=\"line2d_40\">\n    <path clip-path=\"url(#p6e41c04b38)\" d=\"M 470.851587 496.073496 \nL 469.657284 493.631947 \n\" style=\"fill:none;stroke:#008000;stroke-linecap:square;stroke-width:2;\"/>\n   </g>\n   <g id=\"line2d_41\">\n    <path clip-path=\"url(#p6e41c04b38)\" d=\"M 469.657284 493.631947 \nL 468.553794 491.148032 \n\" style=\"fill:none;stroke:#008000;stroke-linecap:square;stroke-width:2;\"/>\n   </g>\n   <g id=\"line2d_42\">\n    <path clip-path=\"url(#p6e41c04b38)\" d=\"M 468.553794 491.148032 \nL 467.533226 488.628912 \n\" style=\"fill:none;stroke:#008000;stroke-linecap:square;stroke-width:2;\"/>\n   </g>\n   <g id=\"line2d_43\">\n    <path clip-path=\"url(#p6e41c04b38)\" d=\"M 467.533226 488.628912 \nL 466.587811 486.080635 \n\" style=\"fill:none;stroke:#008000;stroke-linecap:square;stroke-width:2;\"/>\n   </g>\n   <g id=\"line2d_44\">\n    <path clip-path=\"url(#p6e41c04b38)\" d=\"M 466.587811 486.080635 \nL 466.587811 486.080635 \n\" style=\"fill:none;stroke:#008000;stroke-linecap:square;stroke-width:2;\"/>\n   </g>\n   <g id=\"line2d_45\">\n    <path clip-path=\"url(#p6e41c04b38)\" d=\"M 466.587811 486.080635 \nL 465.723947 483.50357 \n\" style=\"fill:none;stroke:#008000;stroke-linecap:square;stroke-width:2;\"/>\n   </g>\n   <g id=\"line2d_46\">\n    <path clip-path=\"url(#p6e41c04b38)\" d=\"M 465.723947 483.50357 \nL 464.918397 480.907686 \n\" style=\"fill:none;stroke:#008000;stroke-linecap:square;stroke-width:2;\"/>\n   </g>\n   <g id=\"line2d_47\">\n    <path clip-path=\"url(#p6e41c04b38)\" d=\"M 464.918397 480.907686 \nL 464.163879 478.296513 \n\" style=\"fill:none;stroke:#008000;stroke-linecap:square;stroke-width:2;\"/>\n   </g>\n   <g id=\"line2d_48\">\n    <path clip-path=\"url(#p6e41c04b38)\" d=\"M 464.163879 478.296513 \nL 463.453253 475.673054 \n\" style=\"fill:none;stroke:#008000;stroke-linecap:square;stroke-width:2;\"/>\n   </g>\n   <g id=\"line2d_49\">\n    <path clip-path=\"url(#p6e41c04b38)\" d=\"M 463.453253 475.673054 \nL 462.779507 473.039883 \n\" style=\"fill:none;stroke:#008000;stroke-linecap:square;stroke-width:2;\"/>\n   </g>\n   <g id=\"line2d_50\">\n    <path clip-path=\"url(#p6e41c04b38)\" d=\"M 462.779507 473.039883 \nL 462.779507 473.039883 \n\" style=\"fill:none;stroke:#008000;stroke-linecap:square;stroke-width:2;\"/>\n   </g>\n   <g id=\"line2d_51\">\n    <path clip-path=\"url(#p6e41c04b38)\" d=\"M 462.779507 473.039883 \nL 462.150355 470.395703 \n\" style=\"fill:none;stroke:#008000;stroke-linecap:square;stroke-width:2;\"/>\n   </g>\n   <g id=\"line2d_52\">\n    <path clip-path=\"url(#p6e41c04b38)\" d=\"M 462.150355 470.395703 \nL 461.542803 467.746475 \n\" style=\"fill:none;stroke:#008000;stroke-linecap:square;stroke-width:2;\"/>\n   </g>\n   <g id=\"line2d_53\">\n    <path clip-path=\"url(#p6e41c04b38)\" d=\"M 461.542803 467.746475 \nL 460.950132 465.093879 \n\" style=\"fill:none;stroke:#008000;stroke-linecap:square;stroke-width:2;\"/>\n   </g>\n   <g id=\"line2d_54\">\n    <path clip-path=\"url(#p6e41c04b38)\" d=\"M 460.950132 465.093879 \nL 460.36567 462.439463 \n\" style=\"fill:none;stroke:#008000;stroke-linecap:square;stroke-width:2;\"/>\n   </g>\n   <g id=\"line2d_55\">\n    <path clip-path=\"url(#p6e41c04b38)\" d=\"M 460.36567 462.439463 \nL 459.782775 459.784701 \n\" style=\"fill:none;stroke:#008000;stroke-linecap:square;stroke-width:2;\"/>\n   </g>\n   <g id=\"line2d_56\">\n    <path clip-path=\"url(#p6e41c04b38)\" d=\"M 459.782775 459.784701 \nL 459.782775 459.784701 \n\" style=\"fill:none;stroke:#008000;stroke-linecap:square;stroke-width:2;\"/>\n   </g>\n   <g id=\"line2d_57\">\n    <path clip-path=\"url(#p6e41c04b38)\" d=\"M 459.782775 459.784701 \nL 459.211021 457.127518 \n\" style=\"fill:none;stroke:#008000;stroke-linecap:square;stroke-width:2;\"/>\n   </g>\n   <g id=\"line2d_58\">\n    <path clip-path=\"url(#p6e41c04b38)\" d=\"M 459.211021 457.127518 \nL 458.625943 454.473237 \n\" style=\"fill:none;stroke:#008000;stroke-linecap:square;stroke-width:2;\"/>\n   </g>\n   <g id=\"line2d_59\">\n    <path clip-path=\"url(#p6e41c04b38)\" d=\"M 458.625943 454.473237 \nL 458.020825 451.823453 \n\" style=\"fill:none;stroke:#008000;stroke-linecap:square;stroke-width:2;\"/>\n   </g>\n   <g id=\"line2d_60\">\n    <path clip-path=\"url(#p6e41c04b38)\" d=\"M 458.020825 451.823453 \nL 457.388882 449.179938 \n\" style=\"fill:none;stroke:#008000;stroke-linecap:square;stroke-width:2;\"/>\n   </g>\n   <g id=\"line2d_61\">\n    <path clip-path=\"url(#p6e41c04b38)\" d=\"M 457.388882 449.179938 \nL 456.72324 446.544707 \n\" style=\"fill:none;stroke:#008000;stroke-linecap:square;stroke-width:2;\"/>\n   </g>\n   <g id=\"line2d_62\">\n    <path clip-path=\"url(#p6e41c04b38)\" d=\"M 456.72324 446.544707 \nL 456.72324 446.544707 \n\" style=\"fill:none;stroke:#008000;stroke-linecap:square;stroke-width:2;\"/>\n   </g>\n   <g id=\"line2d_63\">\n    <path clip-path=\"url(#p6e41c04b38)\" d=\"M 456.72324 446.544707 \nL 456.025799 443.917712 \n\" style=\"fill:none;stroke:#008000;stroke-linecap:square;stroke-width:2;\"/>\n   </g>\n   <g id=\"line2d_64\">\n    <path clip-path=\"url(#p6e41c04b38)\" d=\"M 456.025799 443.917712 \nL 455.281366 441.303646 \n\" style=\"fill:none;stroke:#008000;stroke-linecap:square;stroke-width:2;\"/>\n   </g>\n   <g id=\"line2d_65\">\n    <path clip-path=\"url(#p6e41c04b38)\" d=\"M 455.281366 441.303646 \nL 454.482706 438.705634 \n\" style=\"fill:none;stroke:#008000;stroke-linecap:square;stroke-width:2;\"/>\n   </g>\n   <g id=\"line2d_66\">\n    <path clip-path=\"url(#p6e41c04b38)\" d=\"M 454.482706 438.705634 \nL 453.622433 436.127368 \n\" style=\"fill:none;stroke:#008000;stroke-linecap:square;stroke-width:2;\"/>\n   </g>\n   <g id=\"line2d_67\">\n    <path clip-path=\"url(#p6e41c04b38)\" d=\"M 453.622433 436.127368 \nL 452.692999 433.573219 \n\" style=\"fill:none;stroke:#008000;stroke-linecap:square;stroke-width:2;\"/>\n   </g>\n   <g id=\"line2d_68\">\n    <path clip-path=\"url(#p6e41c04b38)\" d=\"M 452.692999 433.573219 \nL 452.692999 433.573219 \n\" style=\"fill:none;stroke:#008000;stroke-linecap:square;stroke-width:2;\"/>\n   </g>\n   <g id=\"line2d_69\">\n    <path clip-path=\"url(#p6e41c04b38)\" d=\"M 452.692999 433.573219 \nL 451.731715 431.030886 \n\" style=\"fill:none;stroke:#008000;stroke-linecap:square;stroke-width:2;\"/>\n   </g>\n   <g id=\"line2d_70\">\n    <path clip-path=\"url(#p6e41c04b38)\" d=\"M 451.731715 431.030886 \nL 450.686111 428.522054 \n\" style=\"fill:none;stroke:#008000;stroke-linecap:square;stroke-width:2;\"/>\n   </g>\n   <g id=\"line2d_71\">\n    <path clip-path=\"url(#p6e41c04b38)\" d=\"M 450.686111 428.522054 \nL 449.548108 426.053761 \n\" style=\"fill:none;stroke:#008000;stroke-linecap:square;stroke-width:2;\"/>\n   </g>\n   <g id=\"line2d_72\">\n    <path clip-path=\"url(#p6e41c04b38)\" d=\"M 449.548108 426.053761 \nL 448.309509 423.634382 \n\" style=\"fill:none;stroke:#008000;stroke-linecap:square;stroke-width:2;\"/>\n   </g>\n   <g id=\"line2d_73\">\n    <path clip-path=\"url(#p6e41c04b38)\" d=\"M 448.309509 423.634382 \nL 446.962066 421.27389 \n\" style=\"fill:none;stroke:#008000;stroke-linecap:square;stroke-width:2;\"/>\n   </g>\n   <g id=\"line2d_74\">\n    <path clip-path=\"url(#p6e41c04b38)\" d=\"M 446.962066 421.27389 \nL 446.962066 421.27389 \n\" style=\"fill:none;stroke:#008000;stroke-linecap:square;stroke-width:2;\"/>\n   </g>\n   <g id=\"line2d_75\">\n    <path clip-path=\"url(#p6e41c04b38)\" d=\"M 446.962066 421.27389 \nL 445.527733 418.965165 \n\" style=\"fill:none;stroke:#008000;stroke-linecap:square;stroke-width:2;\"/>\n   </g>\n   <g id=\"line2d_76\">\n    <path clip-path=\"url(#p6e41c04b38)\" d=\"M 445.527733 418.965165 \nL 443.979804 416.731012 \n\" style=\"fill:none;stroke:#008000;stroke-linecap:square;stroke-width:2;\"/>\n   </g>\n   <g id=\"line2d_77\">\n    <path clip-path=\"url(#p6e41c04b38)\" d=\"M 443.979804 416.731012 \nL 442.322148 414.577015 \n\" style=\"fill:none;stroke:#008000;stroke-linecap:square;stroke-width:2;\"/>\n   </g>\n   <g id=\"line2d_78\">\n    <path clip-path=\"url(#p6e41c04b38)\" d=\"M 442.322148 414.577015 \nL 440.558909 412.508559 \n\" style=\"fill:none;stroke:#008000;stroke-linecap:square;stroke-width:2;\"/>\n   </g>\n   <g id=\"line2d_79\">\n    <path clip-path=\"url(#p6e41c04b38)\" d=\"M 440.558909 412.508559 \nL 438.694494 410.530812 \n\" style=\"fill:none;stroke:#008000;stroke-linecap:square;stroke-width:2;\"/>\n   </g>\n   <g id=\"line2d_80\">\n    <path clip-path=\"url(#p6e41c04b38)\" d=\"M 438.694494 410.530812 \nL 438.694494 410.530812 \n\" style=\"fill:none;stroke:#008000;stroke-linecap:square;stroke-width:2;\"/>\n   </g>\n   <g id=\"line2d_81\">\n    <path clip-path=\"url(#p6e41c04b38)\" d=\"M 438.694494 410.530812 \nL 436.743789 408.638122 \n\" style=\"fill:none;stroke:#008000;stroke-linecap:square;stroke-width:2;\"/>\n   </g>\n   <g id=\"line2d_82\">\n    <path clip-path=\"url(#p6e41c04b38)\" d=\"M 436.743789 408.638122 \nL 434.700927 406.845292 \n\" style=\"fill:none;stroke:#008000;stroke-linecap:square;stroke-width:2;\"/>\n   </g>\n   <g id=\"line2d_83\">\n    <path clip-path=\"url(#p6e41c04b38)\" d=\"M 434.700927 406.845292 \nL 432.571015 405.156803 \n\" style=\"fill:none;stroke:#008000;stroke-linecap:square;stroke-width:2;\"/>\n   </g>\n   <g id=\"line2d_84\">\n    <path clip-path=\"url(#p6e41c04b38)\" d=\"M 432.571015 405.156803 \nL 430.359374 403.576875 \n\" style=\"fill:none;stroke:#008000;stroke-linecap:square;stroke-width:2;\"/>\n   </g>\n   <g id=\"line2d_85\">\n    <path clip-path=\"url(#p6e41c04b38)\" d=\"M 430.359374 403.576875 \nL 428.071534 402.109458 \n\" style=\"fill:none;stroke:#008000;stroke-linecap:square;stroke-width:2;\"/>\n   </g>\n   <g id=\"line2d_86\">\n    <path clip-path=\"url(#p6e41c04b38)\" d=\"M 428.071534 402.109458 \nL 428.071534 402.109458 \n\" style=\"fill:none;stroke:#008000;stroke-linecap:square;stroke-width:2;\"/>\n   </g>\n   <g id=\"line2d_87\">\n    <path clip-path=\"url(#p6e41c04b38)\" d=\"M 428.071534 402.109458 \nL 425.720891 400.744907 \n\" style=\"fill:none;stroke:#008000;stroke-linecap:square;stroke-width:2;\"/>\n   </g>\n   <g id=\"line2d_88\">\n    <path clip-path=\"url(#p6e41c04b38)\" d=\"M 425.720891 400.744907 \nL 423.304986 399.499545 \n\" style=\"fill:none;stroke:#008000;stroke-linecap:square;stroke-width:2;\"/>\n   </g>\n   <g id=\"line2d_89\">\n    <path clip-path=\"url(#p6e41c04b38)\" d=\"M 423.304986 399.499545 \nL 420.829858 398.376484 \n\" style=\"fill:none;stroke:#008000;stroke-linecap:square;stroke-width:2;\"/>\n   </g>\n   <g id=\"line2d_90\">\n    <path clip-path=\"url(#p6e41c04b38)\" d=\"M 420.829858 398.376484 \nL 418.301694 397.378531 \n\" style=\"fill:none;stroke:#008000;stroke-linecap:square;stroke-width:2;\"/>\n   </g>\n   <g id=\"line2d_91\">\n    <path clip-path=\"url(#p6e41c04b38)\" d=\"M 418.301694 397.378531 \nL 415.726813 396.508181 \n\" style=\"fill:none;stroke:#008000;stroke-linecap:square;stroke-width:2;\"/>\n   </g>\n   <g id=\"line2d_92\">\n    <path clip-path=\"url(#p6e41c04b38)\" d=\"M 415.726813 396.508181 \nL 415.726813 396.508181 \n\" style=\"fill:none;stroke:#008000;stroke-linecap:square;stroke-width:2;\"/>\n   </g>\n   <g id=\"line2d_93\">\n    <path clip-path=\"url(#p6e41c04b38)\" d=\"M 415.726813 396.508181 \nL 413.119508 395.7404 \n\" style=\"fill:none;stroke:#008000;stroke-linecap:square;stroke-width:2;\"/>\n   </g>\n   <g id=\"line2d_94\">\n    <path clip-path=\"url(#p6e41c04b38)\" d=\"M 413.119508 395.7404 \nL 410.483003 395.079822 \n\" style=\"fill:none;stroke:#008000;stroke-linecap:square;stroke-width:2;\"/>\n   </g>\n   <g id=\"line2d_95\">\n    <path clip-path=\"url(#p6e41c04b38)\" d=\"M 410.483003 395.079822 \nL 407.823939 394.516881 \n\" style=\"fill:none;stroke:#008000;stroke-linecap:square;stroke-width:2;\"/>\n   </g>\n   <g id=\"line2d_96\">\n    <path clip-path=\"url(#p6e41c04b38)\" d=\"M 407.823939 394.516881 \nL 405.14768 394.04237 \n\" style=\"fill:none;stroke:#008000;stroke-linecap:square;stroke-width:2;\"/>\n   </g>\n   <g id=\"line2d_97\">\n    <path clip-path=\"url(#p6e41c04b38)\" d=\"M 405.14768 394.04237 \nL 402.458526 393.647431 \n\" style=\"fill:none;stroke:#008000;stroke-linecap:square;stroke-width:2;\"/>\n   </g>\n   <g id=\"line2d_98\">\n    <path clip-path=\"url(#p6e41c04b38)\" d=\"M 402.458526 393.647431 \nL 402.458526 393.647431 \n\" style=\"fill:none;stroke:#008000;stroke-linecap:square;stroke-width:2;\"/>\n   </g>\n   <g id=\"line2d_99\">\n    <path clip-path=\"url(#p6e41c04b38)\" d=\"M 402.458526 393.647431 \nL 399.763976 393.291166 \n\" style=\"fill:none;stroke:#008000;stroke-linecap:square;stroke-width:2;\"/>\n   </g>\n   <g id=\"line2d_100\">\n    <path clip-path=\"url(#p6e41c04b38)\" d=\"M 399.763976 393.291166 \nL 397.06208 392.995734 \n\" style=\"fill:none;stroke:#008000;stroke-linecap:square;stroke-width:2;\"/>\n   </g>\n   <g id=\"line2d_101\">\n    <path clip-path=\"url(#p6e41c04b38)\" d=\"M 397.06208 392.995734 \nL 394.354912 392.753314 \n\" style=\"fill:none;stroke:#008000;stroke-linecap:square;stroke-width:2;\"/>\n   </g>\n   <g id=\"line2d_102\">\n    <path clip-path=\"url(#p6e41c04b38)\" d=\"M 394.354912 392.753314 \nL 391.64406 392.556324 \n\" style=\"fill:none;stroke:#008000;stroke-linecap:square;stroke-width:2;\"/>\n   </g>\n   <g id=\"line2d_103\">\n    <path clip-path=\"url(#p6e41c04b38)\" d=\"M 391.64406 392.556324 \nL 388.930711 392.397389 \n\" style=\"fill:none;stroke:#008000;stroke-linecap:square;stroke-width:2;\"/>\n   </g>\n   <g id=\"line2d_104\">\n    <path clip-path=\"url(#p6e41c04b38)\" d=\"M 388.930711 392.397389 \nL 388.930711 392.397389 \n\" style=\"fill:none;stroke:#008000;stroke-linecap:square;stroke-width:2;\"/>\n   </g>\n   <g id=\"line2d_105\">\n    <path clip-path=\"url(#p6e41c04b38)\" d=\"M 388.930711 392.397389 \nL 386.216628 392.25151 \n\" style=\"fill:none;stroke:#008000;stroke-linecap:square;stroke-width:2;\"/>\n   </g>\n   <g id=\"line2d_106\">\n    <path clip-path=\"url(#p6e41c04b38)\" d=\"M 386.216628 392.25151 \nL 383.500272 392.157011 \n\" style=\"fill:none;stroke:#008000;stroke-linecap:square;stroke-width:2;\"/>\n   </g>\n   <g id=\"line2d_107\">\n    <path clip-path=\"url(#p6e41c04b38)\" d=\"M 383.500272 392.157011 \nL 380.782499 392.121852 \n\" style=\"fill:none;stroke:#008000;stroke-linecap:square;stroke-width:2;\"/>\n   </g>\n   <g id=\"line2d_108\">\n    <path clip-path=\"url(#p6e41c04b38)\" d=\"M 380.782499 392.121852 \nL 378.064693 392.154328 \n\" style=\"fill:none;stroke:#008000;stroke-linecap:square;stroke-width:2;\"/>\n   </g>\n   <g id=\"line2d_109\">\n    <path clip-path=\"url(#p6e41c04b38)\" d=\"M 378.064693 392.154328 \nL 375.348871 392.263113 \n\" style=\"fill:none;stroke:#008000;stroke-linecap:square;stroke-width:2;\"/>\n   </g>\n   <g id=\"line2d_110\">\n    <path clip-path=\"url(#p6e41c04b38)\" d=\"M 375.348871 392.263113 \nL 375.348871 392.263113 \n\" style=\"fill:none;stroke:#008000;stroke-linecap:square;stroke-width:2;\"/>\n   </g>\n   <g id=\"line2d_111\">\n    <path clip-path=\"url(#p6e41c04b38)\" d=\"M 375.348871 392.263113 \nL 372.635671 392.424574 \n\" style=\"fill:none;stroke:#008000;stroke-linecap:square;stroke-width:2;\"/>\n   </g>\n   <g id=\"line2d_112\">\n    <path clip-path=\"url(#p6e41c04b38)\" d=\"M 372.635671 392.424574 \nL 369.92657 392.644335 \n\" style=\"fill:none;stroke:#008000;stroke-linecap:square;stroke-width:2;\"/>\n   </g>\n   <g id=\"line2d_113\">\n    <path clip-path=\"url(#p6e41c04b38)\" d=\"M 369.92657 392.644335 \nL 367.222025 392.914446 \n\" style=\"fill:none;stroke:#008000;stroke-linecap:square;stroke-width:2;\"/>\n   </g>\n   <g id=\"line2d_114\">\n    <path clip-path=\"url(#p6e41c04b38)\" d=\"M 367.222025 392.914446 \nL 364.522086 393.227264 \n\" style=\"fill:none;stroke:#008000;stroke-linecap:square;stroke-width:2;\"/>\n   </g>\n   <g id=\"line2d_115\">\n    <path clip-path=\"url(#p6e41c04b38)\" d=\"M 364.522086 393.227264 \nL 361.826475 393.575409 \n\" style=\"fill:none;stroke:#008000;stroke-linecap:square;stroke-width:2;\"/>\n   </g>\n   <g id=\"line2d_116\">\n    <path clip-path=\"url(#p6e41c04b38)\" d=\"M 361.826475 393.575409 \nL 361.826475 393.575409 \n\" style=\"fill:none;stroke:#008000;stroke-linecap:square;stroke-width:2;\"/>\n   </g>\n   <g id=\"line2d_117\">\n    <path clip-path=\"url(#p6e41c04b38)\" d=\"M 361.826475 393.575409 \nL 359.132125 393.933183 \n\" style=\"fill:none;stroke:#008000;stroke-linecap:square;stroke-width:2;\"/>\n   </g>\n   <g id=\"line2d_118\">\n    <path clip-path=\"url(#p6e41c04b38)\" d=\"M 359.132125 393.933183 \nL 356.440447 394.31053 \n\" style=\"fill:none;stroke:#008000;stroke-linecap:square;stroke-width:2;\"/>\n   </g>\n   <g id=\"line2d_119\">\n    <path clip-path=\"url(#p6e41c04b38)\" d=\"M 356.440447 394.31053 \nL 353.750583 394.700608 \n\" style=\"fill:none;stroke:#008000;stroke-linecap:square;stroke-width:2;\"/>\n   </g>\n   <g id=\"line2d_120\">\n    <path clip-path=\"url(#p6e41c04b38)\" d=\"M 353.750583 394.700608 \nL 351.061592 395.096653 \n\" style=\"fill:none;stroke:#008000;stroke-linecap:square;stroke-width:2;\"/>\n   </g>\n   <g id=\"line2d_121\">\n    <path clip-path=\"url(#p6e41c04b38)\" d=\"M 351.061592 395.096653 \nL 348.37249 395.491938 \n\" style=\"fill:none;stroke:#008000;stroke-linecap:square;stroke-width:2;\"/>\n   </g>\n   <g id=\"line2d_122\">\n    <path clip-path=\"url(#p6e41c04b38)\" d=\"M 348.37249 395.491938 \nL 348.37249 395.491938 \n\" style=\"fill:none;stroke:#008000;stroke-linecap:square;stroke-width:2;\"/>\n   </g>\n   <g id=\"line2d_123\">\n    <path clip-path=\"url(#p6e41c04b38)\" d=\"M 348.37249 395.491938 \nL 345.680003 395.863475 \n\" style=\"fill:none;stroke:#008000;stroke-linecap:square;stroke-width:2;\"/>\n   </g>\n   <g id=\"line2d_124\">\n    <path clip-path=\"url(#p6e41c04b38)\" d=\"M 345.680003 395.863475 \nL 342.985686 396.221499 \n\" style=\"fill:none;stroke:#008000;stroke-linecap:square;stroke-width:2;\"/>\n   </g>\n   <g id=\"line2d_125\">\n    <path clip-path=\"url(#p6e41c04b38)\" d=\"M 342.985686 396.221499 \nL 340.288741 396.559154 \n\" style=\"fill:none;stroke:#008000;stroke-linecap:square;stroke-width:2;\"/>\n   </g>\n   <g id=\"line2d_126\">\n    <path clip-path=\"url(#p6e41c04b38)\" d=\"M 340.288741 396.559154 \nL 337.588512 396.869456 \n\" style=\"fill:none;stroke:#008000;stroke-linecap:square;stroke-width:2;\"/>\n   </g>\n   <g id=\"line2d_127\">\n    <path clip-path=\"url(#p6e41c04b38)\" d=\"M 337.588512 396.869456 \nL 334.884542 397.145261 \n\" style=\"fill:none;stroke:#008000;stroke-linecap:square;stroke-width:2;\"/>\n   </g>\n   <g id=\"line2d_128\">\n    <path clip-path=\"url(#p6e41c04b38)\" d=\"M 334.884542 397.145261 \nL 334.884542 397.145261 \n\" style=\"fill:none;stroke:#008000;stroke-linecap:square;stroke-width:2;\"/>\n   </g>\n   <g id=\"line2d_129\">\n    <path clip-path=\"url(#p6e41c04b38)\" d=\"M 334.884542 397.145261 \nL 332.173605 397.341083 \n\" style=\"fill:none;stroke:#008000;stroke-linecap:square;stroke-width:2;\"/>\n   </g>\n   <g id=\"line2d_130\">\n    <path clip-path=\"url(#p6e41c04b38)\" d=\"M 332.173605 397.341083 \nL 329.459593 397.488264 \n\" style=\"fill:none;stroke:#008000;stroke-linecap:square;stroke-width:2;\"/>\n   </g>\n   <g id=\"line2d_131\">\n    <path clip-path=\"url(#p6e41c04b38)\" d=\"M 329.459593 397.488264 \nL 326.743106 397.578947 \n\" style=\"fill:none;stroke:#008000;stroke-linecap:square;stroke-width:2;\"/>\n   </g>\n   <g id=\"line2d_132\">\n    <path clip-path=\"url(#p6e41c04b38)\" d=\"M 326.743106 397.578947 \nL 324.025231 397.604944 \n\" style=\"fill:none;stroke:#008000;stroke-linecap:square;stroke-width:2;\"/>\n   </g>\n   <g id=\"line2d_133\">\n    <path clip-path=\"url(#p6e41c04b38)\" d=\"M 324.025231 397.604944 \nL 321.307641 397.557696 \n\" style=\"fill:none;stroke:#008000;stroke-linecap:square;stroke-width:2;\"/>\n   </g>\n   <g id=\"line2d_134\">\n    <path clip-path=\"url(#p6e41c04b38)\" d=\"M 321.307641 397.557696 \nL 321.307641 397.557696 \n\" style=\"fill:none;stroke:#008000;stroke-linecap:square;stroke-width:2;\"/>\n   </g>\n   <g id=\"line2d_135\">\n    <path clip-path=\"url(#p6e41c04b38)\" d=\"M 321.307641 397.557696 \nL 318.592686 397.429084 \n\" style=\"fill:none;stroke:#008000;stroke-linecap:square;stroke-width:2;\"/>\n   </g>\n   <g id=\"line2d_136\">\n    <path clip-path=\"url(#p6e41c04b38)\" d=\"M 318.592686 397.429084 \nL 315.883536 397.209928 \n\" style=\"fill:none;stroke:#008000;stroke-linecap:square;stroke-width:2;\"/>\n   </g>\n   <g id=\"line2d_137\">\n    <path clip-path=\"url(#p6e41c04b38)\" d=\"M 315.883536 397.209928 \nL 313.184387 396.890367 \n\" style=\"fill:none;stroke:#008000;stroke-linecap:square;stroke-width:2;\"/>\n   </g>\n   <g id=\"line2d_138\">\n    <path clip-path=\"url(#p6e41c04b38)\" d=\"M 313.184387 396.890367 \nL 310.500672 396.460019 \n\" style=\"fill:none;stroke:#008000;stroke-linecap:square;stroke-width:2;\"/>\n   </g>\n   <g id=\"line2d_139\">\n    <path clip-path=\"url(#p6e41c04b38)\" d=\"M 310.500672 396.460019 \nL 307.839328 395.907957 \n\" style=\"fill:none;stroke:#008000;stroke-linecap:square;stroke-width:2;\"/>\n   </g>\n   <g id=\"line2d_140\">\n    <path clip-path=\"url(#p6e41c04b38)\" d=\"M 307.839328 395.907957 \nL 307.839328 395.907957 \n\" style=\"fill:none;stroke:#008000;stroke-linecap:square;stroke-width:2;\"/>\n   </g>\n   <g id=\"line2d_141\">\n    <path clip-path=\"url(#p6e41c04b38)\" d=\"M 307.839328 395.907957 \nL 305.205908 395.235185 \n\" style=\"fill:none;stroke:#008000;stroke-linecap:square;stroke-width:2;\"/>\n   </g>\n   <g id=\"line2d_142\">\n    <path clip-path=\"url(#p6e41c04b38)\" d=\"M 305.205908 395.235185 \nL 302.598938 394.46627 \n\" style=\"fill:none;stroke:#008000;stroke-linecap:square;stroke-width:2;\"/>\n   </g>\n   <g id=\"line2d_143\">\n    <path clip-path=\"url(#p6e41c04b38)\" d=\"M 302.598938 394.46627 \nL 300.018736 393.611822 \n\" style=\"fill:none;stroke:#008000;stroke-linecap:square;stroke-width:2;\"/>\n   </g>\n   <g id=\"line2d_144\">\n    <path clip-path=\"url(#p6e41c04b38)\" d=\"M 300.018736 393.611822 \nL 297.464859 392.68164 \n\" style=\"fill:none;stroke:#008000;stroke-linecap:square;stroke-width:2;\"/>\n   </g>\n   <g id=\"line2d_145\">\n    <path clip-path=\"url(#p6e41c04b38)\" d=\"M 297.464859 392.68164 \nL 294.936251 391.684812 \n\" style=\"fill:none;stroke:#008000;stroke-linecap:square;stroke-width:2;\"/>\n   </g>\n   <g id=\"line2d_146\">\n    <path clip-path=\"url(#p6e41c04b38)\" d=\"M 294.936251 391.684812 \nL 294.936251 391.684812 \n\" style=\"fill:none;stroke:#008000;stroke-linecap:square;stroke-width:2;\"/>\n   </g>\n   <g id=\"line2d_147\">\n    <path clip-path=\"url(#p6e41c04b38)\" d=\"M 294.936251 391.684812 \nL 292.439606 390.610434 \n\" style=\"fill:none;stroke:#008000;stroke-linecap:square;stroke-width:2;\"/>\n   </g>\n   <g id=\"line2d_148\">\n    <path clip-path=\"url(#p6e41c04b38)\" d=\"M 292.439606 390.610434 \nL 289.964345 389.487667 \n\" style=\"fill:none;stroke:#008000;stroke-linecap:square;stroke-width:2;\"/>\n   </g>\n   <g id=\"line2d_149\">\n    <path clip-path=\"url(#p6e41c04b38)\" d=\"M 289.964345 389.487667 \nL 287.508106 388.323873 \n\" style=\"fill:none;stroke:#008000;stroke-linecap:square;stroke-width:2;\"/>\n   </g>\n   <g id=\"line2d_150\">\n    <path clip-path=\"url(#p6e41c04b38)\" d=\"M 287.508106 388.323873 \nL 285.068287 387.12604 \n\" style=\"fill:none;stroke:#008000;stroke-linecap:square;stroke-width:2;\"/>\n   </g>\n   <g id=\"line2d_151\">\n    <path clip-path=\"url(#p6e41c04b38)\" d=\"M 285.068287 387.12604 \nL 282.642092 385.900845 \n\" style=\"fill:none;stroke:#008000;stroke-linecap:square;stroke-width:2;\"/>\n   </g>\n   <g id=\"line2d_152\">\n    <path clip-path=\"url(#p6e41c04b38)\" d=\"M 282.642092 385.900845 \nL 282.642092 385.900845 \n\" style=\"fill:none;stroke:#008000;stroke-linecap:square;stroke-width:2;\"/>\n   </g>\n   <g id=\"line2d_153\">\n    <path clip-path=\"url(#p6e41c04b38)\" d=\"M 282.642092 385.900845 \nL 280.230336 384.647467 \n\" style=\"fill:none;stroke:#008000;stroke-linecap:square;stroke-width:2;\"/>\n   </g>\n   <g id=\"line2d_154\">\n    <path clip-path=\"url(#p6e41c04b38)\" d=\"M 280.230336 384.647467 \nL 277.825502 383.380859 \n\" style=\"fill:none;stroke:#008000;stroke-linecap:square;stroke-width:2;\"/>\n   </g>\n   <g id=\"line2d_155\">\n    <path clip-path=\"url(#p6e41c04b38)\" d=\"M 277.825502 383.380859 \nL 275.424447 382.1071 \n\" style=\"fill:none;stroke:#008000;stroke-linecap:square;stroke-width:2;\"/>\n   </g>\n   <g id=\"line2d_156\">\n    <path clip-path=\"url(#p6e41c04b38)\" d=\"M 275.424447 382.1071 \nL 273.023994 380.832208 \n\" style=\"fill:none;stroke:#008000;stroke-linecap:square;stroke-width:2;\"/>\n   </g>\n   <g id=\"line2d_157\">\n    <path clip-path=\"url(#p6e41c04b38)\" d=\"M 273.023994 380.832208 \nL 270.620959 379.56219 \n\" style=\"fill:none;stroke:#008000;stroke-linecap:square;stroke-width:2;\"/>\n   </g>\n   <g id=\"line2d_158\">\n    <path clip-path=\"url(#p6e41c04b38)\" d=\"M 270.620959 379.56219 \nL 270.620959 379.56219 \n\" style=\"fill:none;stroke:#008000;stroke-linecap:square;stroke-width:2;\"/>\n   </g>\n   <g id=\"line2d_159\">\n    <path clip-path=\"url(#p6e41c04b38)\" d=\"M 270.620959 379.56219 \nL 268.215699 378.296391 \n\" style=\"fill:none;stroke:#008000;stroke-linecap:square;stroke-width:2;\"/>\n   </g>\n   <g id=\"line2d_160\">\n    <path clip-path=\"url(#p6e41c04b38)\" d=\"M 268.215699 378.296391 \nL 265.801904 377.046944 \n\" style=\"fill:none;stroke:#008000;stroke-linecap:square;stroke-width:2;\"/>\n   </g>\n   <g id=\"line2d_161\">\n    <path clip-path=\"url(#p6e41c04b38)\" d=\"M 265.801904 377.046944 \nL 263.37653 375.820125 \n\" style=\"fill:none;stroke:#008000;stroke-linecap:square;stroke-width:2;\"/>\n   </g>\n   <g id=\"line2d_162\">\n    <path clip-path=\"url(#p6e41c04b38)\" d=\"M 263.37653 375.820125 \nL 260.936649 374.622416 \n\" style=\"fill:none;stroke:#008000;stroke-linecap:square;stroke-width:2;\"/>\n   </g>\n   <g id=\"line2d_163\">\n    <path clip-path=\"url(#p6e41c04b38)\" d=\"M 260.936649 374.622416 \nL 258.479492 373.460564 \n\" style=\"fill:none;stroke:#008000;stroke-linecap:square;stroke-width:2;\"/>\n   </g>\n   <g id=\"line2d_164\">\n    <path clip-path=\"url(#p6e41c04b38)\" d=\"M 258.479492 373.460564 \nL 258.479492 373.460564 \n\" style=\"fill:none;stroke:#008000;stroke-linecap:square;stroke-width:2;\"/>\n   </g>\n   <g id=\"line2d_165\">\n    <path clip-path=\"url(#p6e41c04b38)\" d=\"M 258.479492 373.460564 \nL 256.022834 372.297655 \n\" style=\"fill:none;stroke:#008000;stroke-linecap:square;stroke-width:2;\"/>\n   </g>\n   <g id=\"line2d_166\">\n    <path clip-path=\"url(#p6e41c04b38)\" d=\"M 256.022834 372.297655 \nL 253.555741 371.15705 \n\" style=\"fill:none;stroke:#008000;stroke-linecap:square;stroke-width:2;\"/>\n   </g>\n   <g id=\"line2d_167\">\n    <path clip-path=\"url(#p6e41c04b38)\" d=\"M 253.555741 371.15705 \nL 251.081288 370.032503 \n\" style=\"fill:none;stroke:#008000;stroke-linecap:square;stroke-width:2;\"/>\n   </g>\n   <g id=\"line2d_168\">\n    <path clip-path=\"url(#p6e41c04b38)\" d=\"M 251.081288 370.032503 \nL 248.602389 368.917791 \n\" style=\"fill:none;stroke:#008000;stroke-linecap:square;stroke-width:2;\"/>\n   </g>\n   <g id=\"line2d_169\">\n    <path clip-path=\"url(#p6e41c04b38)\" d=\"M 248.602389 368.917791 \nL 246.121862 367.806706 \n\" style=\"fill:none;stroke:#008000;stroke-linecap:square;stroke-width:2;\"/>\n   </g>\n   <g id=\"line2d_170\">\n    <path clip-path=\"url(#p6e41c04b38)\" d=\"M 246.121862 367.806706 \nL 246.121862 367.806706 \n\" style=\"fill:none;stroke:#008000;stroke-linecap:square;stroke-width:2;\"/>\n   </g>\n   <g id=\"line2d_171\">\n    <path clip-path=\"url(#p6e41c04b38)\" d=\"M 246.121862 367.806706 \nL 243.654652 366.666357 \n\" style=\"fill:none;stroke:#008000;stroke-linecap:square;stroke-width:2;\"/>\n   </g>\n   <g id=\"line2d_172\">\n    <path clip-path=\"url(#p6e41c04b38)\" d=\"M 243.654652 366.666357 \nL 241.180756 365.540584 \n\" style=\"fill:none;stroke:#008000;stroke-linecap:square;stroke-width:2;\"/>\n   </g>\n   <g id=\"line2d_173\">\n    <path clip-path=\"url(#p6e41c04b38)\" d=\"M 241.180756 365.540584 \nL 238.697435 364.435759 \n\" style=\"fill:none;stroke:#008000;stroke-linecap:square;stroke-width:2;\"/>\n   </g>\n   <g id=\"line2d_174\">\n    <path clip-path=\"url(#p6e41c04b38)\" d=\"M 238.697435 364.435759 \nL 236.202059 363.358436 \n\" style=\"fill:none;stroke:#008000;stroke-linecap:square;stroke-width:2;\"/>\n   </g>\n   <g id=\"line2d_175\">\n    <path clip-path=\"url(#p6e41c04b38)\" d=\"M 236.202059 363.358436 \nL 233.692158 362.315401 \n\" style=\"fill:none;stroke:#008000;stroke-linecap:square;stroke-width:2;\"/>\n   </g>\n   <g id=\"line2d_176\">\n    <path clip-path=\"url(#p6e41c04b38)\" d=\"M 233.692158 362.315401 \nL 233.692158 362.315401 \n\" style=\"fill:none;stroke:#008000;stroke-linecap:square;stroke-width:2;\"/>\n   </g>\n   <g id=\"line2d_177\">\n    <path clip-path=\"url(#p6e41c04b38)\" d=\"M 233.692158 362.315401 \nL 231.173437 361.29385 \n\" style=\"fill:none;stroke:#008000;stroke-linecap:square;stroke-width:2;\"/>\n   </g>\n   <g id=\"line2d_178\">\n    <path clip-path=\"url(#p6e41c04b38)\" d=\"M 231.173437 361.29385 \nL 228.635837 360.320141 \n\" style=\"fill:none;stroke:#008000;stroke-linecap:square;stroke-width:2;\"/>\n   </g>\n   <g id=\"line2d_179\">\n    <path clip-path=\"url(#p6e41c04b38)\" d=\"M 228.635837 360.320141 \nL 226.077579 359.402077 \n\" style=\"fill:none;stroke:#008000;stroke-linecap:square;stroke-width:2;\"/>\n   </g>\n   <g id=\"line2d_180\">\n    <path clip-path=\"url(#p6e41c04b38)\" d=\"M 226.077579 359.402077 \nL 223.49727 358.547952 \n\" style=\"fill:none;stroke:#008000;stroke-linecap:square;stroke-width:2;\"/>\n   </g>\n   <g id=\"line2d_181\">\n    <path clip-path=\"url(#p6e41c04b38)\" d=\"M 223.49727 358.547952 \nL 220.893993 357.766626 \n\" style=\"fill:none;stroke:#008000;stroke-linecap:square;stroke-width:2;\"/>\n   </g>\n   <g id=\"line2d_182\">\n    <path clip-path=\"url(#p6e41c04b38)\" d=\"M 220.893993 357.766626 \nL 220.893993 357.766626 \n\" style=\"fill:none;stroke:#008000;stroke-linecap:square;stroke-width:2;\"/>\n   </g>\n   <g id=\"line2d_183\">\n    <path clip-path=\"url(#p6e41c04b38)\" d=\"M 220.893993 357.766626 \nL 218.276045 357.035959 \n\" style=\"fill:none;stroke:#008000;stroke-linecap:square;stroke-width:2;\"/>\n   </g>\n   <g id=\"line2d_184\">\n    <path clip-path=\"url(#p6e41c04b38)\" d=\"M 218.276045 357.035959 \nL 215.642992 356.36175 \n\" style=\"fill:none;stroke:#008000;stroke-linecap:square;stroke-width:2;\"/>\n   </g>\n   <g id=\"line2d_185\">\n    <path clip-path=\"url(#p6e41c04b38)\" d=\"M 215.642992 356.36175 \nL 212.997855 355.736631 \n\" style=\"fill:none;stroke:#008000;stroke-linecap:square;stroke-width:2;\"/>\n   </g>\n   <g id=\"line2d_186\">\n    <path clip-path=\"url(#p6e41c04b38)\" d=\"M 212.997855 355.736631 \nL 210.34317 355.153392 \n\" style=\"fill:none;stroke:#008000;stroke-linecap:square;stroke-width:2;\"/>\n   </g>\n   <g id=\"line2d_187\">\n    <path clip-path=\"url(#p6e41c04b38)\" d=\"M 210.34317 355.153392 \nL 207.681074 354.604965 \n\" style=\"fill:none;stroke:#008000;stroke-linecap:square;stroke-width:2;\"/>\n   </g>\n   <g id=\"line2d_188\">\n    <path clip-path=\"url(#p6e41c04b38)\" d=\"M 207.681074 354.604965 \nL 207.681074 354.604965 \n\" style=\"fill:none;stroke:#008000;stroke-linecap:square;stroke-width:2;\"/>\n   </g>\n   <g id=\"line2d_189\">\n    <path clip-path=\"url(#p6e41c04b38)\" d=\"M 207.681074 354.604965 \nL 205.017036 354.066052 \n\" style=\"fill:none;stroke:#008000;stroke-linecap:square;stroke-width:2;\"/>\n   </g>\n   <g id=\"line2d_190\">\n    <path clip-path=\"url(#p6e41c04b38)\" d=\"M 205.017036 354.066052 \nL 202.349152 353.546516 \n\" style=\"fill:none;stroke:#008000;stroke-linecap:square;stroke-width:2;\"/>\n   </g>\n   <g id=\"line2d_191\">\n    <path clip-path=\"url(#p6e41c04b38)\" d=\"M 202.349152 353.546516 \nL 199.67884 353.039608 \n\" style=\"fill:none;stroke:#008000;stroke-linecap:square;stroke-width:2;\"/>\n   </g>\n   <g id=\"line2d_192\">\n    <path clip-path=\"url(#p6e41c04b38)\" d=\"M 199.67884 353.039608 \nL 197.007409 352.538626 \n\" style=\"fill:none;stroke:#008000;stroke-linecap:square;stroke-width:2;\"/>\n   </g>\n   <g id=\"line2d_193\">\n    <path clip-path=\"url(#p6e41c04b38)\" d=\"M 197.007409 352.538626 \nL 194.33612 352.036889 \n\" style=\"fill:none;stroke:#008000;stroke-linecap:square;stroke-width:2;\"/>\n   </g>\n   <g id=\"line2d_194\">\n    <path clip-path=\"url(#p6e41c04b38)\" d=\"M 194.33612 352.036889 \nL 194.33612 352.036889 \n\" style=\"fill:none;stroke:#008000;stroke-linecap:square;stroke-width:2;\"/>\n   </g>\n   <g id=\"line2d_195\">\n    <path clip-path=\"url(#p6e41c04b38)\" d=\"M 194.33612 352.036889 \nL 191.669364 351.511596 \n\" style=\"fill:none;stroke:#008000;stroke-linecap:square;stroke-width:2;\"/>\n   </g>\n   <g id=\"line2d_196\">\n    <path clip-path=\"url(#p6e41c04b38)\" d=\"M 191.669364 351.511596 \nL 189.005276 350.972931 \n\" style=\"fill:none;stroke:#008000;stroke-linecap:square;stroke-width:2;\"/>\n   </g>\n   <g id=\"line2d_197\">\n    <path clip-path=\"url(#p6e41c04b38)\" d=\"M 189.005276 350.972931 \nL 186.345334 350.41415 \n\" style=\"fill:none;stroke:#008000;stroke-linecap:square;stroke-width:2;\"/>\n   </g>\n   <g id=\"line2d_198\">\n    <path clip-path=\"url(#p6e41c04b38)\" d=\"M 186.345334 350.41415 \nL 183.691193 349.828439 \n\" style=\"fill:none;stroke:#008000;stroke-linecap:square;stroke-width:2;\"/>\n   </g>\n   <g id=\"line2d_199\">\n    <path clip-path=\"url(#p6e41c04b38)\" d=\"M 183.691193 349.828439 \nL 181.044746 349.20889 \n\" style=\"fill:none;stroke:#008000;stroke-linecap:square;stroke-width:2;\"/>\n   </g>\n   <g id=\"line2d_200\">\n    <path clip-path=\"url(#p6e41c04b38)\" d=\"M 181.044746 349.20889 \nL 181.044746 349.20889 \n\" style=\"fill:none;stroke:#008000;stroke-linecap:square;stroke-width:2;\"/>\n   </g>\n   <g id=\"line2d_201\">\n    <path clip-path=\"url(#p6e41c04b38)\" d=\"M 181.044746 349.20889 \nL 178.417751 348.511449 \n\" style=\"fill:none;stroke:#008000;stroke-linecap:square;stroke-width:2;\"/>\n   </g>\n   <g id=\"line2d_202\">\n    <path clip-path=\"url(#p6e41c04b38)\" d=\"M 178.417751 348.511449 \nL 175.803685 347.767016 \n\" style=\"fill:none;stroke:#008000;stroke-linecap:square;stroke-width:2;\"/>\n   </g>\n   <g id=\"line2d_203\">\n    <path clip-path=\"url(#p6e41c04b38)\" d=\"M 175.803685 347.767016 \nL 173.205673 346.968356 \n\" style=\"fill:none;stroke:#008000;stroke-linecap:square;stroke-width:2;\"/>\n   </g>\n   <g id=\"line2d_204\">\n    <path clip-path=\"url(#p6e41c04b38)\" d=\"M 173.205673 346.968356 \nL 170.627407 346.108083 \n\" style=\"fill:none;stroke:#008000;stroke-linecap:square;stroke-width:2;\"/>\n   </g>\n   <g id=\"line2d_205\">\n    <path clip-path=\"url(#p6e41c04b38)\" d=\"M 170.627407 346.108083 \nL 168.073259 345.178648 \n\" style=\"fill:none;stroke:#008000;stroke-linecap:square;stroke-width:2;\"/>\n   </g>\n   <g id=\"line2d_206\">\n    <path clip-path=\"url(#p6e41c04b38)\" d=\"M 168.073259 345.178648 \nL 168.073259 345.178648 \n\" style=\"fill:none;stroke:#008000;stroke-linecap:square;stroke-width:2;\"/>\n   </g>\n   <g id=\"line2d_207\">\n    <path clip-path=\"url(#p6e41c04b38)\" d=\"M 168.073259 345.178648 \nL 165.548089 344.173141 \n\" style=\"fill:none;stroke:#008000;stroke-linecap:square;stroke-width:2;\"/>\n   </g>\n   <g id=\"line2d_208\">\n    <path clip-path=\"url(#p6e41c04b38)\" d=\"M 165.548089 344.173141 \nL 163.057888 343.083912 \n\" style=\"fill:none;stroke:#008000;stroke-linecap:square;stroke-width:2;\"/>\n   </g>\n   <g id=\"line2d_209\">\n    <path clip-path=\"url(#p6e41c04b38)\" d=\"M 163.057888 343.083912 \nL 160.609832 341.903004 \n\" style=\"fill:none;stroke:#008000;stroke-linecap:square;stroke-width:2;\"/>\n   </g>\n   <g id=\"line2d_210\">\n    <path clip-path=\"url(#p6e41c04b38)\" d=\"M 160.609832 341.903004 \nL 158.212437 340.62237 \n\" style=\"fill:none;stroke:#008000;stroke-linecap:square;stroke-width:2;\"/>\n   </g>\n   <g id=\"line2d_211\">\n    <path clip-path=\"url(#p6e41c04b38)\" d=\"M 158.212437 340.62237 \nL 155.875821 339.233936 \n\" style=\"fill:none;stroke:#008000;stroke-linecap:square;stroke-width:2;\"/>\n   </g>\n   <g id=\"line2d_212\">\n    <path clip-path=\"url(#p6e41c04b38)\" d=\"M 155.875821 339.233936 \nL 155.875821 339.233936 \n\" style=\"fill:none;stroke:#008000;stroke-linecap:square;stroke-width:2;\"/>\n   </g>\n   <g id=\"line2d_213\">\n    <path clip-path=\"url(#p6e41c04b38)\" d=\"M 155.875821 339.233936 \nL 153.614178 337.726456 \n\" style=\"fill:none;stroke:#008000;stroke-linecap:square;stroke-width:2;\"/>\n   </g>\n   <g id=\"line2d_214\">\n    <path clip-path=\"url(#p6e41c04b38)\" d=\"M 153.614178 337.726456 \nL 151.42873 336.110491 \n\" style=\"fill:none;stroke:#008000;stroke-linecap:square;stroke-width:2;\"/>\n   </g>\n   <g id=\"line2d_215\">\n    <path clip-path=\"url(#p6e41c04b38)\" d=\"M 151.42873 336.110491 \nL 149.326778 334.38732 \n\" style=\"fill:none;stroke:#008000;stroke-linecap:square;stroke-width:2;\"/>\n   </g>\n   <g id=\"line2d_216\">\n    <path clip-path=\"url(#p6e41c04b38)\" d=\"M 149.326778 334.38732 \nL 147.313575 332.561248 \n\" style=\"fill:none;stroke:#008000;stroke-linecap:square;stroke-width:2;\"/>\n   </g>\n   <g id=\"line2d_217\">\n    <path clip-path=\"url(#p6e41c04b38)\" d=\"M 147.313575 332.561248 \nL 145.394154 330.63684 \n\" style=\"fill:none;stroke:#008000;stroke-linecap:square;stroke-width:2;\"/>\n   </g>\n   <g id=\"line2d_218\">\n    <path clip-path=\"url(#p6e41c04b38)\" d=\"M 145.394154 330.63684 \nL 145.394154 330.63684 \n\" style=\"fill:none;stroke:#008000;stroke-linecap:square;stroke-width:2;\"/>\n   </g>\n   <g id=\"line2d_219\">\n    <path clip-path=\"url(#p6e41c04b38)\" d=\"M 145.394154 330.63684 \nL 143.596414 328.598297 \n\" style=\"fill:none;stroke:#008000;stroke-linecap:square;stroke-width:2;\"/>\n   </g>\n   <g id=\"line2d_220\">\n    <path clip-path=\"url(#p6e41c04b38)\" d=\"M 143.596414 328.598297 \nL 141.883492 326.487984 \n\" style=\"fill:none;stroke:#008000;stroke-linecap:square;stroke-width:2;\"/>\n   </g>\n   <g id=\"line2d_221\">\n    <path clip-path=\"url(#p6e41c04b38)\" d=\"M 141.883492 326.487984 \nL 140.249525 324.315963 \n\" style=\"fill:none;stroke:#008000;stroke-linecap:square;stroke-width:2;\"/>\n   </g>\n   <g id=\"line2d_222\">\n    <path clip-path=\"url(#p6e41c04b38)\" d=\"M 140.249525 324.315963 \nL 138.688435 322.090986 \n\" style=\"fill:none;stroke:#008000;stroke-linecap:square;stroke-width:2;\"/>\n   </g>\n   <g id=\"line2d_223\">\n    <path clip-path=\"url(#p6e41c04b38)\" d=\"M 138.688435 322.090986 \nL 137.194014 319.820693 \n\" style=\"fill:none;stroke:#008000;stroke-linecap:square;stroke-width:2;\"/>\n   </g>\n   <g id=\"line2d_224\">\n    <path clip-path=\"url(#p6e41c04b38)\" d=\"M 137.194014 319.820693 \nL 137.194014 319.820693 \n\" style=\"fill:none;stroke:#008000;stroke-linecap:square;stroke-width:2;\"/>\n   </g>\n   <g id=\"line2d_225\">\n    <path clip-path=\"url(#p6e41c04b38)\" d=\"M 137.194014 319.820693 \nL 135.788079 317.494565 \n\" style=\"fill:none;stroke:#008000;stroke-linecap:square;stroke-width:2;\"/>\n   </g>\n   <g id=\"line2d_226\">\n    <path clip-path=\"url(#p6e41c04b38)\" d=\"M 135.788079 317.494565 \nL 134.466701 315.119384 \n\" style=\"fill:none;stroke:#008000;stroke-linecap:square;stroke-width:2;\"/>\n   </g>\n   <g id=\"line2d_227\">\n    <path clip-path=\"url(#p6e41c04b38)\" d=\"M 134.466701 315.119384 \nL 133.241135 312.693377 \n\" style=\"fill:none;stroke:#008000;stroke-linecap:square;stroke-width:2;\"/>\n   </g>\n   <g id=\"line2d_228\">\n    <path clip-path=\"url(#p6e41c04b38)\" d=\"M 133.241135 312.693377 \nL 132.123894 310.215617 \n\" style=\"fill:none;stroke:#008000;stroke-linecap:square;stroke-width:2;\"/>\n   </g>\n   <g id=\"line2d_229\">\n    <path clip-path=\"url(#p6e41c04b38)\" d=\"M 132.123894 310.215617 \nL 131.128934 307.686273 \n\" style=\"fill:none;stroke:#008000;stroke-linecap:square;stroke-width:2;\"/>\n   </g>\n   <g id=\"line2d_230\">\n    <path clip-path=\"url(#p6e41c04b38)\" d=\"M 131.128934 307.686273 \nL 131.128934 307.686273 \n\" style=\"fill:none;stroke:#008000;stroke-linecap:square;stroke-width:2;\"/>\n   </g>\n   <g id=\"line2d_231\">\n    <path clip-path=\"url(#p6e41c04b38)\" d=\"M 131.128934 307.686273 \nL 130.282928 305.103291 \n\" style=\"fill:none;stroke:#008000;stroke-linecap:square;stroke-width:2;\"/>\n   </g>\n   <g id=\"line2d_232\">\n    <path clip-path=\"url(#p6e41c04b38)\" d=\"M 130.282928 305.103291 \nL 129.567074 302.481254 \n\" style=\"fill:none;stroke:#008000;stroke-linecap:square;stroke-width:2;\"/>\n   </g>\n   <g id=\"line2d_233\">\n    <path clip-path=\"url(#p6e41c04b38)\" d=\"M 129.567074 302.481254 \nL 128.983163 299.826716 \n\" style=\"fill:none;stroke:#008000;stroke-linecap:square;stroke-width:2;\"/>\n   </g>\n   <g id=\"line2d_234\">\n    <path clip-path=\"url(#p6e41c04b38)\" d=\"M 128.983163 299.826716 \nL 128.532652 297.146312 \n\" style=\"fill:none;stroke:#008000;stroke-linecap:square;stroke-width:2;\"/>\n   </g>\n   <g id=\"line2d_235\">\n    <path clip-path=\"url(#p6e41c04b38)\" d=\"M 128.532652 297.146312 \nL 128.21667 294.446742 \n\" style=\"fill:none;stroke:#008000;stroke-linecap:square;stroke-width:2;\"/>\n   </g>\n   <g id=\"line2d_236\">\n    <path clip-path=\"url(#p6e41c04b38)\" d=\"M 128.21667 294.446742 \nL 128.21667 294.446742 \n\" style=\"fill:none;stroke:#008000;stroke-linecap:square;stroke-width:2;\"/>\n   </g>\n   <g id=\"line2d_237\">\n    <path clip-path=\"url(#p6e41c04b38)\" d=\"M 128.21667 294.446742 \nL 128.068015 291.73281 \n\" style=\"fill:none;stroke:#008000;stroke-linecap:square;stroke-width:2;\"/>\n   </g>\n   <g id=\"line2d_238\">\n    <path clip-path=\"url(#p6e41c04b38)\" d=\"M 128.068015 291.73281 \nL 128.055187 289.014841 \n\" style=\"fill:none;stroke:#008000;stroke-linecap:square;stroke-width:2;\"/>\n   </g>\n   <g id=\"line2d_239\">\n    <path clip-path=\"url(#p6e41c04b38)\" d=\"M 128.055187 289.014841 \nL 128.178217 286.299626 \n\" style=\"fill:none;stroke:#008000;stroke-linecap:square;stroke-width:2;\"/>\n   </g>\n   <g id=\"line2d_240\">\n    <path clip-path=\"url(#p6e41c04b38)\" d=\"M 128.178217 286.299626 \nL 128.436797 283.593955 \n\" style=\"fill:none;stroke:#008000;stroke-linecap:square;stroke-width:2;\"/>\n   </g>\n   <g id=\"line2d_241\">\n    <path clip-path=\"url(#p6e41c04b38)\" d=\"M 128.436797 283.593955 \nL 128.830281 280.904588 \n\" style=\"fill:none;stroke:#008000;stroke-linecap:square;stroke-width:2;\"/>\n   </g>\n   <g id=\"line2d_242\">\n    <path clip-path=\"url(#p6e41c04b38)\" d=\"M 128.830281 280.904588 \nL 128.830281 280.904588 \n\" style=\"fill:none;stroke:#008000;stroke-linecap:square;stroke-width:2;\"/>\n   </g>\n   <g id=\"line2d_243\">\n    <path clip-path=\"url(#p6e41c04b38)\" d=\"M 128.830281 280.904588 \nL 129.389109 278.244656 \n\" style=\"fill:none;stroke:#008000;stroke-linecap:square;stroke-width:2;\"/>\n   </g>\n   <g id=\"line2d_244\">\n    <path clip-path=\"url(#p6e41c04b38)\" d=\"M 129.389109 278.244656 \nL 130.080181 275.615979 \n\" style=\"fill:none;stroke:#008000;stroke-linecap:square;stroke-width:2;\"/>\n   </g>\n   <g id=\"line2d_245\">\n    <path clip-path=\"url(#p6e41c04b38)\" d=\"M 130.080181 275.615979 \nL 130.901767 273.025126 \n\" style=\"fill:none;stroke:#008000;stroke-linecap:square;stroke-width:2;\"/>\n   </g>\n   <g id=\"line2d_246\">\n    <path clip-path=\"url(#p6e41c04b38)\" d=\"M 130.901767 273.025126 \nL 131.851816 270.478573 \n\" style=\"fill:none;stroke:#008000;stroke-linecap:square;stroke-width:2;\"/>\n   </g>\n   <g id=\"line2d_247\">\n    <path clip-path=\"url(#p6e41c04b38)\" d=\"M 131.851816 270.478573 \nL 132.927952 267.982685 \n\" style=\"fill:none;stroke:#008000;stroke-linecap:square;stroke-width:2;\"/>\n   </g>\n   <g id=\"line2d_248\">\n    <path clip-path=\"url(#p6e41c04b38)\" d=\"M 132.927952 267.982685 \nL 132.927952 267.982685 \n\" style=\"fill:none;stroke:#008000;stroke-linecap:square;stroke-width:2;\"/>\n   </g>\n   <g id=\"line2d_249\">\n    <path clip-path=\"url(#p6e41c04b38)\" d=\"M 132.927952 267.982685 \nL 131.935852 270.513152 \n\" style=\"fill:none;stroke:#008000;stroke-linecap:square;stroke-width:2;\"/>\n   </g>\n   <g id=\"line2d_250\">\n    <path clip-path=\"url(#p6e41c04b38)\" d=\"M 131.935852 270.513152 \nL 131.048001 273.082051 \n\" style=\"fill:none;stroke:#008000;stroke-linecap:square;stroke-width:2;\"/>\n   </g>\n   <g id=\"line2d_251\">\n    <path clip-path=\"url(#p6e41c04b38)\" d=\"M 131.048001 273.082051 \nL 130.255449 275.681933 \n\" style=\"fill:none;stroke:#008000;stroke-linecap:square;stroke-width:2;\"/>\n   </g>\n   <g id=\"line2d_252\">\n    <path clip-path=\"url(#p6e41c04b38)\" d=\"M 130.255449 275.681933 \nL 129.549492 278.306652 \n\" style=\"fill:none;stroke:#008000;stroke-linecap:square;stroke-width:2;\"/>\n   </g>\n   <g id=\"line2d_253\">\n    <path clip-path=\"url(#p6e41c04b38)\" d=\"M 129.549492 278.306652 \nL 128.921681 280.951152 \n\" style=\"fill:none;stroke:#008000;stroke-linecap:square;stroke-width:2;\"/>\n   </g>\n   <g id=\"line2d_254\">\n    <path clip-path=\"url(#p6e41c04b38)\" d=\"M 128.921681 280.951152 \nL 128.921681 280.951152 \n\" style=\"fill:none;stroke:#008000;stroke-linecap:square;stroke-width:2;\"/>\n   </g>\n   <g id=\"line2d_255\">\n    <path clip-path=\"url(#p6e41c04b38)\" d=\"M 128.921681 280.951152 \nL 128.331926 283.604397 \n\" style=\"fill:none;stroke:#008000;stroke-linecap:square;stroke-width:2;\"/>\n   </g>\n   <g id=\"line2d_256\">\n    <path clip-path=\"url(#p6e41c04b38)\" d=\"M 128.331926 283.604397 \nL 127.802132 286.270264 \n\" style=\"fill:none;stroke:#008000;stroke-linecap:square;stroke-width:2;\"/>\n   </g>\n   <g id=\"line2d_257\">\n    <path clip-path=\"url(#p6e41c04b38)\" d=\"M 127.802132 286.270264 \nL 127.32469 288.946001 \n\" style=\"fill:none;stroke:#008000;stroke-linecap:square;stroke-width:2;\"/>\n   </g>\n   <g id=\"line2d_258\">\n    <path clip-path=\"url(#p6e41c04b38)\" d=\"M 127.32469 288.946001 \nL 126.892182 291.629369 \n\" style=\"fill:none;stroke:#008000;stroke-linecap:square;stroke-width:2;\"/>\n   </g>\n   <g id=\"line2d_259\">\n    <path clip-path=\"url(#p6e41c04b38)\" d=\"M 126.892182 291.629369 \nL 126.497369 294.318541 \n\" style=\"fill:none;stroke:#008000;stroke-linecap:square;stroke-width:2;\"/>\n   </g>\n   <g id=\"line2d_260\">\n    <path clip-path=\"url(#p6e41c04b38)\" d=\"M 126.497369 294.318541 \nL 126.497369 294.318541 \n\" style=\"fill:none;stroke:#008000;stroke-linecap:square;stroke-width:2;\"/>\n   </g>\n   <g id=\"line2d_261\">\n    <path clip-path=\"url(#p6e41c04b38)\" d=\"M 126.497369 294.318541 \nL 126.101066 297.007494 \n\" style=\"fill:none;stroke:#008000;stroke-linecap:square;stroke-width:2;\"/>\n   </g>\n   <g id=\"line2d_262\">\n    <path clip-path=\"url(#p6e41c04b38)\" d=\"M 126.101066 297.007494 \nL 125.726722 299.699592 \n\" style=\"fill:none;stroke:#008000;stroke-linecap:square;stroke-width:2;\"/>\n   </g>\n   <g id=\"line2d_263\">\n    <path clip-path=\"url(#p6e41c04b38)\" d=\"M 125.726722 299.699592 \nL 125.367495 302.393748 \n\" style=\"fill:none;stroke:#008000;stroke-linecap:square;stroke-width:2;\"/>\n   </g>\n   <g id=\"line2d_264\">\n    <path clip-path=\"url(#p6e41c04b38)\" d=\"M 125.367495 302.393748 \nL 125.016605 305.089003 \n\" style=\"fill:none;stroke:#008000;stroke-linecap:square;stroke-width:2;\"/>\n   </g>\n   <g id=\"line2d_265\">\n    <path clip-path=\"url(#p6e41c04b38)\" d=\"M 125.016605 305.089003 \nL 124.667306 307.784465 \n\" style=\"fill:none;stroke:#008000;stroke-linecap:square;stroke-width:2;\"/>\n   </g>\n   <g id=\"line2d_266\">\n    <path clip-path=\"url(#p6e41c04b38)\" d=\"M 124.667306 307.784465 \nL 124.667306 307.784465 \n\" style=\"fill:none;stroke:#008000;stroke-linecap:square;stroke-width:2;\"/>\n   </g>\n   <g id=\"line2d_267\">\n    <path clip-path=\"url(#p6e41c04b38)\" d=\"M 124.667306 307.784465 \nL 124.295769 310.476952 \n\" style=\"fill:none;stroke:#008000;stroke-linecap:square;stroke-width:2;\"/>\n   </g>\n   <g id=\"line2d_268\">\n    <path clip-path=\"url(#p6e41c04b38)\" d=\"M 124.295769 310.476952 \nL 123.937744 313.171268 \n\" style=\"fill:none;stroke:#008000;stroke-linecap:square;stroke-width:2;\"/>\n   </g>\n   <g id=\"line2d_269\">\n    <path clip-path=\"url(#p6e41c04b38)\" d=\"M 123.937744 313.171268 \nL 123.60009 315.868214 \n\" style=\"fill:none;stroke:#008000;stroke-linecap:square;stroke-width:2;\"/>\n   </g>\n   <g id=\"line2d_270\">\n    <path clip-path=\"url(#p6e41c04b38)\" d=\"M 123.60009 315.868214 \nL 123.289787 318.568443 \n\" style=\"fill:none;stroke:#008000;stroke-linecap:square;stroke-width:2;\"/>\n   </g>\n   <g id=\"line2d_271\">\n    <path clip-path=\"url(#p6e41c04b38)\" d=\"M 123.289787 318.568443 \nL 123.013983 321.272413 \n\" style=\"fill:none;stroke:#008000;stroke-linecap:square;stroke-width:2;\"/>\n   </g>\n   <g id=\"line2d_272\">\n    <path clip-path=\"url(#p6e41c04b38)\" d=\"M 123.013983 321.272413 \nL 123.013983 321.272413 \n\" style=\"fill:none;stroke:#008000;stroke-linecap:square;stroke-width:2;\"/>\n   </g>\n   <g id=\"line2d_273\">\n    <path clip-path=\"url(#p6e41c04b38)\" d=\"M 123.013983 321.272413 \nL 122.756491 323.978189 \n\" style=\"fill:none;stroke:#008000;stroke-linecap:square;stroke-width:2;\"/>\n   </g>\n   <g id=\"line2d_274\">\n    <path clip-path=\"url(#p6e41c04b38)\" d=\"M 122.756491 323.978189 \nL 122.51867 326.685764 \n\" style=\"fill:none;stroke:#008000;stroke-linecap:square;stroke-width:2;\"/>\n   </g>\n   <g id=\"line2d_275\">\n    <path clip-path=\"url(#p6e41c04b38)\" d=\"M 122.51867 326.685764 \nL 122.293663 329.394435 \n\" style=\"fill:none;stroke:#008000;stroke-linecap:square;stroke-width:2;\"/>\n   </g>\n   <g id=\"line2d_276\">\n    <path clip-path=\"url(#p6e41c04b38)\" d=\"M 122.293663 329.394435 \nL 122.074666 332.103598 \n\" style=\"fill:none;stroke:#008000;stroke-linecap:square;stroke-width:2;\"/>\n   </g>\n   <g id=\"line2d_277\">\n    <path clip-path=\"url(#p6e41c04b38)\" d=\"M 122.074666 332.103598 \nL 121.854903 334.812699 \n\" style=\"fill:none;stroke:#008000;stroke-linecap:square;stroke-width:2;\"/>\n   </g>\n   <g id=\"line2d_278\">\n    <path clip-path=\"url(#p6e41c04b38)\" d=\"M 121.854903 334.812699 \nL 121.854903 334.812699 \n\" style=\"fill:none;stroke:#008000;stroke-linecap:square;stroke-width:2;\"/>\n   </g>\n   <g id=\"line2d_279\">\n    <path clip-path=\"url(#p6e41c04b38)\" d=\"M 121.854903 334.812699 \nL 121.624789 337.52094 \n\" style=\"fill:none;stroke:#008000;stroke-linecap:square;stroke-width:2;\"/>\n   </g>\n   <g id=\"line2d_280\">\n    <path clip-path=\"url(#p6e41c04b38)\" d=\"M 121.624789 337.52094 \nL 121.408265 340.230302 \n\" style=\"fill:none;stroke:#008000;stroke-linecap:square;stroke-width:2;\"/>\n   </g>\n   <g id=\"line2d_281\">\n    <path clip-path=\"url(#p6e41c04b38)\" d=\"M 121.408265 340.230302 \nL 121.21222 342.941223 \n\" style=\"fill:none;stroke:#008000;stroke-linecap:square;stroke-width:2;\"/>\n   </g>\n   <g id=\"line2d_282\">\n    <path clip-path=\"url(#p6e41c04b38)\" d=\"M 121.21222 342.941223 \nL 121.043662 345.653991 \n\" style=\"fill:none;stroke:#008000;stroke-linecap:square;stroke-width:2;\"/>\n   </g>\n   <g id=\"line2d_283\">\n    <path clip-path=\"url(#p6e41c04b38)\" d=\"M 121.043662 345.653991 \nL 120.909751 348.36869 \n\" style=\"fill:none;stroke:#008000;stroke-linecap:square;stroke-width:2;\"/>\n   </g>\n   <g id=\"patch_6\">\n    <path d=\"M 26.925 554.599219 \nL 26.925 10.999219 \n\" style=\"fill:none;stroke:#000000;stroke-linecap:square;stroke-linejoin:miter;stroke-width:0.8;\"/>\n   </g>\n   <g id=\"patch_7\">\n    <path d=\"M 570.525 554.599219 \nL 570.525 10.999219 \n\" style=\"fill:none;stroke:#000000;stroke-linecap:square;stroke-linejoin:miter;stroke-width:0.8;\"/>\n   </g>\n   <g id=\"patch_8\">\n    <path d=\"M 26.925 554.599219 \nL 570.525 554.599219 \n\" style=\"fill:none;stroke:#000000;stroke-linecap:square;stroke-linejoin:miter;stroke-width:0.8;\"/>\n   </g>\n   <g id=\"patch_9\">\n    <path d=\"M 26.925 10.999219 \nL 570.525 10.999219 \n\" style=\"fill:none;stroke:#000000;stroke-linecap:square;stroke-linejoin:miter;stroke-width:0.8;\"/>\n   </g>\n  </g>\n </g>\n <defs>\n  <clipPath id=\"p6e41c04b38\">\n   <rect height=\"543.6\" width=\"543.6\" x=\"26.925\" y=\"10.999219\"/>\n  </clipPath>\n </defs>\n</svg>\n",
      "image/png": "[encoded data removed]"
     },
     "metadata": {
      "needs_background": "light"
     }
    }
   ],
   "source": [
    "# node_list.append( goal_node_final)\n",
    "if destination is None:\n",
    "    destination = goal_node\n",
    "    goal_node_final = goal_node\n",
    "nodes = visualize(viz, node_list, destination, goal_node, obs, False)"
   ]
  },
  {
   "cell_type": "code",
   "execution_count": null,
   "metadata": {},
   "outputs": [],
   "source": [
    "isOnSpot(destination, goal_node)"
   ]
  },
  {
   "cell_type": "code",
   "execution_count": null,
   "metadata": {},
   "outputs": [],
   "source": [
    "isOnSpot(goal_node_final, goal_node)"
   ]
  },
  {
   "cell_type": "code",
   "execution_count": null,
   "metadata": {},
   "outputs": [],
   "source": [
    "goal_node_final.getState()"
   ]
  },
  {
   "cell_type": "code",
   "execution_count": null,
   "metadata": {},
   "outputs": [],
   "source": [
    "destination.getState()"
   ]
  },
  {
   "cell_type": "code",
   "execution_count": null,
   "metadata": {},
   "outputs": [],
   "source": [
    "destination.getMove()"
   ]
  },
  {
   "cell_type": "code",
   "execution_count": null,
   "metadata": {},
   "outputs": [],
   "source": []
  },
  {
   "cell_type": "code",
   "execution_count": null,
   "metadata": {},
   "outputs": [],
   "source": [
    "    fig, ax = plt.subplots(figsize = (10, 10))\n",
    "    ax.set(xlim=(0, 10), ylim = (0,10))\n",
    "    ax = viz.addObstacles2Map(ax)\n",
    "    ax.set_aspect(\"equal\")\n",
    "\n",
    "    i = 0\n",
    "    y = goal_node.getState()[1]\n",
    "    y_ = goal_node.getState()[1]\n",
    "    ax.scatter(goal_node.getState()[0], y)\n",
    "    theta = toRadian(goal_node.getState()[2])\n",
    "    while(i<10):\n",
    "        if goal_node.getState()[2] % 90 == 0:\n",
    "            x = goal_node.getState()[0]\n",
    "        else:\n",
    "            x = y/math.tan(theta)\n",
    "        i+=1\n",
    "        y+=0.1\n",
    "        y_-=0.1\n",
    "        ax.scatter(x,y)\n",
    "        ax.scatter(x,y_)\n"
   ]
  },
  {
   "cell_type": "code",
   "execution_count": null,
   "metadata": {},
   "outputs": [],
   "source": []
  },
  {
   "source": [
    "# Debugging 180 degree issue"
   ],
   "cell_type": "markdown",
   "metadata": {}
  },
  {
   "cell_type": "code",
   "execution_count": null,
   "metadata": {},
   "outputs": [],
   "source": [
    "height, width = 10, 10\n",
    "T = 0.5\n",
    "dt = 0.1\n",
    "threshold = 0.5\n",
    "rand_map = [width-1, height-1]\n",
    "start_point = [4,2,90,0]\n",
    "obs = Obstacle(0.0)\n",
    "viz = Visualization(obs)\n",
    "start_node = Node(start_point, None, None, 0, [])\n",
    "\n",
    "T = 1\n",
    "u_linear = 1\n",
    "u_steer1 = 0.5\n",
    "u_steer2 = 0.7"
   ]
  },
  {
   "cell_type": "code",
   "execution_count": null,
   "metadata": {},
   "outputs": [],
   "source": [
    "branches = getBranches(start_node, T, u_linear, u_steer1, u_steer2, obs)"
   ]
  },
  {
   "cell_type": "code",
   "execution_count": null,
   "metadata": {},
   "outputs": [],
   "source": [
    "fig, ax = plt.subplots(figsize = (10, 10))\n",
    "ax.set(xlim=(0, 10), ylim = (0,10))\n",
    "ax = viz.addObstacles2Map(ax)\n",
    "ax.set_aspect(\"equal\")\n",
    "for node in branches:\n",
    "    start_node  = node.getParent()\n",
    "    if start_node is not None:\n",
    "        xi, yi, _, _ = start_node.getState()\n",
    "        points = node.getPathArray()\n",
    "        if points is not None:\n",
    "            for point in points:\n",
    "                xn, yn = point\n",
    "                ax.plot([xi, xn], [yi, yn], color=\"blue\", linewidth = 0.3)\n",
    "                xi, yi = xn, yn"
   ]
  },
  {
   "cell_type": "code",
   "execution_count": null,
   "metadata": {},
   "outputs": [],
   "source": [
    "math.tan(1.50)"
   ]
  },
  {
   "cell_type": "code",
   "execution_count": null,
   "metadata": {},
   "outputs": [],
   "source": [
    "destination.getState()[2]"
   ]
  },
  {
   "cell_type": "code",
   "execution_count": null,
   "metadata": {},
   "outputs": [],
   "source": []
  },
  {
   "cell_type": "code",
   "execution_count": null,
   "metadata": {},
   "outputs": [],
   "source": [
    "# node_list.append( goal_node_final)\n",
    "if destination is None:\n",
    "    destination = goal_node\n",
    "    goal_node_final = goal_node\n",
    "nodes = visualize(viz, node_list, goal_node_final, goal_node, obs, False)"
   ]
  },
  {
   "cell_type": "code",
   "execution_count": null,
   "metadata": {},
   "outputs": [],
   "source": [
    "if destination is None:\n",
    "    destination = goal_node\n",
    "    goal_node_final = goal_node\n",
    "nodes = visualize(viz, node_list, goal_node_final, goal_node, obs, False)"
   ]
  },
  {
   "cell_type": "code",
   "execution_count": null,
   "metadata": {},
   "outputs": [],
   "source": []
  }
 ]
}